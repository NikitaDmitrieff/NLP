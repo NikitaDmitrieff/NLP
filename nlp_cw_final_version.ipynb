{
 "cells": [
  {
   "cell_type": "markdown",
   "id": "2e3f3b06-e0a7-4524-919b-a31f376babbc",
   "metadata": {
    "jupyter": {
     "outputs_hidden": true
    },
    "tags": []
   },
   "source": [
    "# General "
   ]
  },
  {
   "cell_type": "markdown",
   "id": "fb674f2f-5f21-4552-869b-ea98cfe22792",
   "metadata": {},
   "source": [
    "## Python modules"
   ]
  },
  {
   "cell_type": "code",
   "execution_count": 60,
   "id": "1475c3bb-f911-4cd7-a47c-180f3214c65f",
   "metadata": {
    "tags": []
   },
   "outputs": [],
   "source": [
    "!pip install transformers\n",
    "!pip install sentencepiece\n",
    "!pip install ipywidgets\n",
    "!pip install simpletransformers\n",
    "!pip install seaborn\n",
    "!pip install sacremoses\n",
    "!pip install googletrans==4.0.0-rc1\n",
    "!pip install googledrivedownloader\n",
    "\n",
    "from IPython.display import clear_output \n",
    "clear_output()"
   ]
  },
  {
   "cell_type": "markdown",
   "id": "723976a4-ee1d-4f3f-b4c1-754904ee9ed1",
   "metadata": {},
   "source": [
    "## Imports"
   ]
  },
  {
   "cell_type": "code",
   "execution_count": 61,
   "id": "65674276-8237-4815-a4ba-569cd20ab28e",
   "metadata": {
    "tags": []
   },
   "outputs": [],
   "source": [
    "from nltk.corpus import wordnet\n",
    "import copy\n",
    "import nltk\n",
    "from sklearn.utils import resample\n",
    "\n",
    "from urllib import request\n",
    "import torch\n",
    "from torch.utils.data import DataLoader, Dataset\n",
    "import transformers\n",
    "import torch.nn as nn\n",
    "from tqdm.notebook import tqdm\n",
    "import pandas as pd\n",
    "from sklearn.model_selection import train_test_split\n",
    "import logging\n",
    "\n",
    "from transformers import RobertaModel, RobertaTokenizer\n",
    "\n",
    "import pandas as pd\n",
    "import numpy as np\n",
    "import os\n",
    "import random\n",
    "from pathlib import Path\n",
    "\n",
    "from sklearn.utils import shuffle\n",
    "from sklearn.model_selection import train_test_split\n",
    "from sklearn.metrics import confusion_matrix,mean_absolute_error, f1_score, precision_score, recall_score\n",
    "import matplotlib.pyplot as plt\n",
    "import seaborn as sns\n",
    "%matplotlib inline \n",
    "\n",
    "from google_drive_downloader import GoogleDriveDownloader as gdd\n",
    "from urllib import request\n",
    "\n",
    "clear_output()"
   ]
  },
  {
   "cell_type": "markdown",
   "id": "60a5f289-77df-4f71-b0d6-67a00822bd1e",
   "metadata": {},
   "source": [
    "## Connect to device"
   ]
  },
  {
   "cell_type": "code",
   "execution_count": 62,
   "id": "6955dd1e-32a5-4ce6-a70f-ab742dcfdf24",
   "metadata": {
    "tags": []
   },
   "outputs": [
    {
     "name": "stdout",
     "output_type": "stream",
     "text": [
      "Using cuda:0\n"
     ]
    }
   ],
   "source": [
    "logging.basicConfig(level=logging.INFO)\n",
    "\n",
    "transformers_logger = logging.getLogger(\"transformers\")\n",
    "transformers_logger.setLevel(logging.WARNING)\n",
    "\n",
    "\n",
    "if not torch.cuda.is_available():\n",
    "  print('WARNING: You may want to change the runtime to GPU for faster training!')\n",
    "  DEVICE = 'cpu'\n",
    "else:\n",
    "  DEVICE = 'cuda:0'\n",
    "print(\"Using \"+ DEVICE)\n",
    "\n",
    "# Setting the random seeds manually\n",
    "\n",
    "random.seed(1)\n",
    "np.random.seed(1)\n",
    "torch.manual_seed(1)\n",
    "torch.cuda.manual_seed_all(1)"
   ]
  },
  {
   "cell_type": "markdown",
   "id": "0eef50f8-b955-49c6-bedc-689d248db3aa",
   "metadata": {},
   "source": [
    "## Download DS & Labels"
   ]
  },
  {
   "cell_type": "code",
   "execution_count": 63,
   "id": "ca66e49c-9611-4293-9ba8-5cd3bedb8fc2",
   "metadata": {
    "tags": []
   },
   "outputs": [
    {
     "name": "stdout",
     "output_type": "stream",
     "text": [
      "Map of label to numerical label:\n",
      "{'Unbalanced_power_relations': 0, 'Shallow_solution': 1, 'Presupposition': 2, 'Authority_voice': 3, 'Metaphors': 4, 'Compassion': 5, 'The_poorer_the_merrier': 6}\n"
     ]
    }
   ],
   "source": [
    "module_url_list = [\n",
    "    \"https://raw.githubusercontent.com/Perez-AlmendrosC/dontpatronizeme/master/semeval-2022/practice%20splits/dev_semeval_parids-labels.csv\",\n",
    "    \"https://raw.githubusercontent.com/Perez-AlmendrosC/dontpatronizeme/master/semeval-2022/practice%20splits/train_semeval_parids-labels.csv\",\n",
    "    \"https://raw.githubusercontent.com/Perez-AlmendrosC/dontpatronizeme/master/semeval-2022/TEST/task4_test.tsv\"\n",
    "]\n",
    "\n",
    "for module_url in module_url_list:\n",
    "    module_name = module_url.split('/')[-1]    \n",
    "    with request.urlopen(module_url) as f, open(module_name,'w') as outf:\n",
    "        a = f.read()\n",
    "        outf.write(a.decode('utf-8'))\n",
    "\n",
    "gdd.download_file_from_google_drive(file_id='1rbwLNB2BOFrrPaaq4M7mrhXngEfoG7yH',\n",
    "                                    dest_path='./dontpatronizeme_categories.tsv',\n",
    "                                    unzip=False)\n",
    "        \n",
    "gdd.download_file_from_google_drive(file_id='152MgJAIqK4x_G1xJrZB9GRg5AkTocs7I',\n",
    "                                    dest_path='./dontpatronizeme_pcl.tsv',\n",
    "                                    unzip=False)\n",
    "\n",
    "module_url = f\"https://raw.githubusercontent.com/Perez-AlmendrosC/dontpatronizeme/master/semeval-2022/dont_patronize_me.py\"\n",
    "module_name = module_url.split('/')[-1]\n",
    "with request.urlopen(module_url) as f, open(module_name,'w') as outf:\n",
    "    a = f.read()\n",
    "    outf.write(a.decode('utf-8'))\n",
    "\n",
    "module_url = f\"https://raw.githubusercontent.com/Perez-AlmendrosC/dontpatronizeme/master/semeval-2022/evaluation.py\"\n",
    "module_name = module_url.split('/')[-1]\n",
    "\n",
    "with request.urlopen(module_url) as f, open(module_name,'w') as outf:\n",
    "    a = f.read()\n",
    "    outf.write(a.decode('utf-8'))\n",
    "  \n",
    "from dont_patronize_me import DontPatronizeMe\n",
    "\n",
    "dpm_dir = \".\"\n",
    "out_dir = \".\"\n",
    "\n",
    "dpm = DontPatronizeMe(\".\", \".\")\n",
    "\n",
    "\"\"\"\n",
    "dpm = DontPatronizeMe(\".\", \".\"): This line creates an instance of the DontPatronizeMe class,\n",
    "with the current working directory as the input for both dpm_dir and out_dir arguments.\n",
    "dpm_dir is the directory where the DPM dataset is located, and out_dir is the directory where the predictions will be saved\n",
    "\"\"\"\n",
    "\n",
    "dpm.load_task1()\n",
    "dpm.load_task2(return_one_hot=True)\n",
    "\n",
    "\"\"\"\n",
    "dpm.load_task1(): This line loads the first task of the DPM dataset into the DontPatronizeMe instance. \n",
    "Task 1 is a binary classification task where the goal is to predict whether a given text contains patronizing language or not.\n",
    "\n",
    "dpm.load_task2(return_one_hot=True): This line loads the second task of the DPM dataset into the DontPatronizeMe instance. \n",
    "Task 2 is a multi-label classification task where the goal is to predict which identities are targeted by patronizing language in a given text.\n",
    "return_one_hot=True specifies that the labels should be returned in one-hot encoding format.\n",
    "\"\"\"\n",
    "None"
   ]
  },
  {
   "cell_type": "markdown",
   "id": "da4f9595-7de2-4f9c-9c42-892d355ea736",
   "metadata": {},
   "source": [
    "# Functions for training the model"
   ]
  },
  {
   "cell_type": "markdown",
   "id": "79b6599f-5940-45a4-96f5-4f2354a4fb2b",
   "metadata": {},
   "source": [
    " ## Tokenizer"
   ]
  },
  {
   "cell_type": "code",
   "execution_count": 64,
   "id": "eebab71a-09d7-4899-aff4-048f45a533df",
   "metadata": {
    "tags": []
   },
   "outputs": [],
   "source": [
    "# Tokenizer used for a Roberta\n",
    "tokenizer = RobertaTokenizer.from_pretrained('roberta-base',\n",
    "                                             truncation=True,\n",
    "                                             do_lower_case=True)\n",
    "\n",
    "# Hyperparameters\n",
    "MAX_LEN = 256\n",
    "TRAIN_BATCH_SIZE = 8\n",
    "VALID_BATCH_SIZE = 4"
   ]
  },
  {
   "cell_type": "code",
   "execution_count": 65,
   "id": "93ebfa62-349c-49bd-b202-73fafbac8bf0",
   "metadata": {},
   "outputs": [],
   "source": [
    "class DpmData(Dataset):\n",
    "    def __init__(self, dataframe, tokenizer, max_len):\n",
    "        self.tokenizer = tokenizer\n",
    "        self.data = dataframe\n",
    "        self.text = dataframe.text\n",
    "        self.targets = self.data.label\n",
    "        self.max_len = max_len\n",
    "\n",
    "    def __len__(self):\n",
    "        return len(self.text)\n",
    "\n",
    "    def __getitem__(self, index):\n",
    "        text = str(self.text[index])\n",
    "        text = \" \".join(text.split())\n",
    "\n",
    "        inputs = self.tokenizer.encode_plus(\n",
    "            text,\n",
    "            None,\n",
    "            add_special_tokens=True,\n",
    "            max_length=self.max_len,\n",
    "            pad_to_max_length=True,\n",
    "            return_token_type_ids=True\n",
    "        )\n",
    "        \n",
    "        ids = inputs['input_ids']\n",
    "        mask = inputs['attention_mask']\n",
    "        token_type_ids = inputs[\"token_type_ids\"]\n",
    "\n",
    "        return {\n",
    "            'ids': torch.tensor(ids, dtype=torch.long),\n",
    "            'mask': torch.tensor(mask, dtype=torch.long),\n",
    "            'token_type_ids': torch.tensor(token_type_ids, dtype=torch.long),\n",
    "            'targets': torch.tensor(self.targets[index], dtype=torch.float)\n",
    "        }"
   ]
  },
  {
   "cell_type": "markdown",
   "id": "63c01ba2-998f-49ad-ab62-a6d91c502439",
   "metadata": {},
   "source": [
    "# Dataset handling"
   ]
  },
  {
   "cell_type": "markdown",
   "id": "373b793b-736d-4fb9-aa2c-fd6af7a7dfc9",
   "metadata": {},
   "source": [
    "## Get train_set and test_set"
   ]
  },
  {
   "cell_type": "code",
   "execution_count": 66,
   "id": "b4124e8c-df5b-458c-87ad-b30497674664",
   "metadata": {},
   "outputs": [
    {
     "name": "stdout",
     "output_type": "stream",
     "text": [
      "Train=6700, Val=1675, own Test=2094\n",
      "\n",
      "\n"
     ]
    },
    {
     "data": {
      "text/html": [
       "<div>\n",
       "<style scoped>\n",
       "    .dataframe tbody tr th:only-of-type {\n",
       "        vertical-align: middle;\n",
       "    }\n",
       "\n",
       "    .dataframe tbody tr th {\n",
       "        vertical-align: top;\n",
       "    }\n",
       "\n",
       "    .dataframe thead th {\n",
       "        text-align: right;\n",
       "    }\n",
       "</style>\n",
       "<table border=\"1\" class=\"dataframe\">\n",
       "  <thead>\n",
       "    <tr style=\"text-align: right;\">\n",
       "      <th></th>\n",
       "      <th>par_id</th>\n",
       "      <th>text</th>\n",
       "      <th>label</th>\n",
       "      <th>orig_label</th>\n",
       "    </tr>\n",
       "  </thead>\n",
       "  <tbody>\n",
       "    <tr>\n",
       "      <th>0</th>\n",
       "      <td>3737</td>\n",
       "      <td>NEW YORK -- New York officials and community a...</td>\n",
       "      <td>0</td>\n",
       "      <td>0</td>\n",
       "    </tr>\n",
       "    <tr>\n",
       "      <th>1</th>\n",
       "      <td>7710</td>\n",
       "      <td>Cheri Van Loon posted that ' smart men respect...</td>\n",
       "      <td>0</td>\n",
       "      <td>0</td>\n",
       "    </tr>\n",
       "    <tr>\n",
       "      <th>2</th>\n",
       "      <td>4415</td>\n",
       "      <td>Nairobi , Kenya - After enduring months of gre...</td>\n",
       "      <td>0</td>\n",
       "      <td>0</td>\n",
       "    </tr>\n",
       "    <tr>\n",
       "      <th>3</th>\n",
       "      <td>9343</td>\n",
       "      <td>\"Lougene has this message to others who may st...</td>\n",
       "      <td>1</td>\n",
       "      <td>4</td>\n",
       "    </tr>\n",
       "    <tr>\n",
       "      <th>4</th>\n",
       "      <td>3922</td>\n",
       "      <td>\"\"\" The humanitarian architecture has not kept...</td>\n",
       "      <td>0</td>\n",
       "      <td>0</td>\n",
       "    </tr>\n",
       "  </tbody>\n",
       "</table>\n",
       "</div>"
      ],
      "text/plain": [
       "  par_id                                               text  label orig_label\n",
       "0   3737  NEW YORK -- New York officials and community a...      0          0\n",
       "1   7710  Cheri Van Loon posted that ' smart men respect...      0          0\n",
       "2   4415  Nairobi , Kenya - After enduring months of gre...      0          0\n",
       "3   9343  \"Lougene has this message to others who may st...      1          4\n",
       "4   3922  \"\"\" The humanitarian architecture has not kept...      0          0"
      ]
     },
     "execution_count": 66,
     "metadata": {},
     "output_type": "execute_result"
    }
   ],
   "source": [
    "# Dataset has been downloaded already, now we have to retrieve it. Par is short for paragraph\n",
    "\n",
    "trids = pd.read_csv('train_semeval_parids-labels.csv')\n",
    "teids = pd.read_csv('dev_semeval_parids-labels.csv')\n",
    "\n",
    "trids.par_id = trids.par_id.astype(str)\n",
    "teids.par_id = teids.par_id.astype(str)\n",
    "\n",
    "\n",
    "# => For the Train Ids\n",
    "\n",
    "rows = []\n",
    "for idx in range(len(trids)):\n",
    "    \n",
    "    # Retrieve the training id \n",
    "    parid = trids.par_id[idx]\n",
    "\n",
    "    # select row from original dataset to retrieve `text`, binary label and original label\n",
    "    text = dpm.train_task1_df.loc[dpm.train_task1_df.par_id == parid].text.values[0]\n",
    "    label = dpm.train_task1_df.loc[dpm.train_task1_df.par_id == parid].label.values[0]\n",
    "    orig_label = dpm.train_task1_df.loc[dpm.train_task1_df.par_id == parid].orig_label.values[0]\n",
    "    \n",
    "    # Construct row with desired features: id, text, binary label and original label\n",
    "    rows.append({\n",
    "      'par_id':parid,\n",
    "      'text':text,\n",
    "      'label':label,\n",
    "        'orig_label':orig_label\n",
    "    })\n",
    "    \n",
    "# Concatenate and transform to DF\n",
    "train_set = pd.DataFrame(rows)  \n",
    "\n",
    "# => For the Test Ids\n",
    "\n",
    "rows = []\n",
    "for idx in range(len(teids)):\n",
    "    \n",
    "    # Retrieve the testing id \n",
    "    parid = teids.par_id[idx]\n",
    "\n",
    "    # select row from original dataset to retrieve `text`, binary label and original label\n",
    "    text = dpm.train_task1_df.loc[dpm.train_task1_df.par_id == parid].text.values[0]\n",
    "    label = dpm.train_task1_df.loc[dpm.train_task1_df.par_id == parid].label.values[0]\n",
    "    orig_label = dpm.train_task1_df.loc[dpm.train_task1_df.par_id == parid].orig_label.values[0]\n",
    "    \n",
    "    # Construct row with desired features: id, text, label and original label\n",
    "    rows.append({\n",
    "      'par_id':parid,\n",
    "      'text':text,\n",
    "      'label':label,\n",
    "        'orig_label':orig_label\n",
    "    })\n",
    "    \n",
    "# Concatenate and transform to DF    \n",
    "test_set = pd.DataFrame(rows)\n",
    "None\n",
    "\n",
    "# Split into training and validation sets\n",
    "train_set, val_set = train_test_split(train_set, test_size=0.2)\n",
    "\n",
    "\n",
    "train_set = train_set.reset_index(drop=True)\n",
    "val_set = val_set.reset_index(drop=True)\n",
    "\n",
    "print(f\"Train={len(train_set)}, Val={len(val_set)}, own Test={len(test_set)}\\n\\n\")\n",
    "\n",
    "train_set.head()"
   ]
  },
  {
   "cell_type": "markdown",
   "id": "23d96c40-a811-4697-b541-3a317b29c2de",
   "metadata": {},
   "source": [
    "## Create final testing set"
   ]
  },
  {
   "cell_type": "code",
   "execution_count": 67,
   "id": "0734986d-03a3-46dd-91cc-907d5926bb85",
   "metadata": {},
   "outputs": [
    {
     "data": {
      "text/html": [
       "<div>\n",
       "<style scoped>\n",
       "    .dataframe tbody tr th:only-of-type {\n",
       "        vertical-align: middle;\n",
       "    }\n",
       "\n",
       "    .dataframe tbody tr th {\n",
       "        vertical-align: top;\n",
       "    }\n",
       "\n",
       "    .dataframe thead th {\n",
       "        text-align: right;\n",
       "    }\n",
       "</style>\n",
       "<table border=\"1\" class=\"dataframe\">\n",
       "  <thead>\n",
       "    <tr style=\"text-align: right;\">\n",
       "      <th></th>\n",
       "      <th>art_id</th>\n",
       "      <th>keyword</th>\n",
       "      <th>country</th>\n",
       "      <th>text</th>\n",
       "      <th>label</th>\n",
       "    </tr>\n",
       "  </thead>\n",
       "  <tbody>\n",
       "    <tr>\n",
       "      <th>t_0</th>\n",
       "      <td>@@7258997</td>\n",
       "      <td>vulnerable</td>\n",
       "      <td>us</td>\n",
       "      <td>In the meantime , conservatives are working to...</td>\n",
       "      <td>1</td>\n",
       "    </tr>\n",
       "    <tr>\n",
       "      <th>t_1</th>\n",
       "      <td>@@16397324</td>\n",
       "      <td>women</td>\n",
       "      <td>pk</td>\n",
       "      <td>In most poor households with no education chil...</td>\n",
       "      <td>1</td>\n",
       "    </tr>\n",
       "    <tr>\n",
       "      <th>t_2</th>\n",
       "      <td>@@16257812</td>\n",
       "      <td>migrant</td>\n",
       "      <td>ca</td>\n",
       "      <td>The real question is not whether immigration i...</td>\n",
       "      <td>1</td>\n",
       "    </tr>\n",
       "    <tr>\n",
       "      <th>t_3</th>\n",
       "      <td>@@3509652</td>\n",
       "      <td>migrant</td>\n",
       "      <td>gb</td>\n",
       "      <td>In total , the country 's immigrant population...</td>\n",
       "      <td>1</td>\n",
       "    </tr>\n",
       "    <tr>\n",
       "      <th>t_4</th>\n",
       "      <td>@@477506</td>\n",
       "      <td>vulnerable</td>\n",
       "      <td>ca</td>\n",
       "      <td>Members of the church , which is part of Ken C...</td>\n",
       "      <td>1</td>\n",
       "    </tr>\n",
       "  </tbody>\n",
       "</table>\n",
       "</div>"
      ],
      "text/plain": [
       "         art_id     keyword country  \\\n",
       "t_0   @@7258997  vulnerable      us   \n",
       "t_1  @@16397324       women      pk   \n",
       "t_2  @@16257812     migrant      ca   \n",
       "t_3   @@3509652     migrant      gb   \n",
       "t_4    @@477506  vulnerable      ca   \n",
       "\n",
       "                                                  text  label  \n",
       "t_0  In the meantime , conservatives are working to...      1  \n",
       "t_1  In most poor households with no education chil...      1  \n",
       "t_2  The real question is not whether immigration i...      1  \n",
       "t_3  In total , the country 's immigrant population...      1  \n",
       "t_4  Members of the church , which is part of Ken C...      1  "
      ]
     },
     "execution_count": 67,
     "metadata": {},
     "output_type": "execute_result"
    }
   ],
   "source": [
    "column_names = ['art_id', 'keyword', 'country', 'text']\n",
    "\n",
    "# read the TSV file and specify the column names\n",
    "real_test_set = pd.read_csv(\"task4_test.tsv\", delimiter=\"\\t\", names=column_names)\n",
    "\n",
    "real_test_set[\"label\"] = 1\n",
    "\n",
    "real_test_set.head()"
   ]
  },
  {
   "cell_type": "markdown",
   "id": "d4895f39-0b74-4ac4-a352-38b885173942",
   "metadata": {},
   "source": [
    "Here, we have our train_set, val_set, test_set and real_test_set Dataframe variables ready for down sampling and data augmentation. 'test_set' is from the dev dataset whereas the 'real_test_set' is from the task4 data set.\n",
    "\n",
    "We will separate the augmented dataset from the non-augmented. Eventually we'll have 3 datasets:\n",
    "- train_set\n",
    "- val_set\n",
    "- test_set\n",
    "- augmented_train_set"
   ]
  },
  {
   "cell_type": "markdown",
   "id": "0edff102-7bb3-4aab-a1ef-4e569972cdec",
   "metadata": {
    "tags": []
   },
   "source": [
    "## Data Augmentation"
   ]
  },
  {
   "cell_type": "code",
   "execution_count": 68,
   "id": "61ceacb9-41f5-41f5-b91e-2538a8f08ac6",
   "metadata": {
    "tags": []
   },
   "outputs": [
    {
     "name": "stderr",
     "output_type": "stream",
     "text": [
      "[nltk_data] Downloading package omw-1.4 to /root/nltk_data...\n",
      "[nltk_data]   Package omw-1.4 is already up-to-date!\n",
      "[nltk_data] Downloading package wordnet to /root/nltk_data...\n",
      "[nltk_data]   Package wordnet is already up-to-date!\n",
      "[nltk_data] Downloading package omw to /root/nltk_data...\n",
      "[nltk_data]   Package omw is already up-to-date!\n"
     ]
    },
    {
     "name": "stdout",
     "output_type": "stream",
     "text": [
      "\n",
      "No. of added examples for full Data Augmentation:              454\n",
      "No. of added examples for synonym Data Augmentation:           389\n",
      "No. of added examples for random deletion Data Augmentation:   389\n",
      "No. of added examples for random swap Data Augmentation:       389\n",
      "\n",
      "Previously, we had about 6700 sentences, now we have 7802 sentences\n"
     ]
    },
    {
     "data": {
      "text/html": [
       "<div>\n",
       "<style scoped>\n",
       "    .dataframe tbody tr th:only-of-type {\n",
       "        vertical-align: middle;\n",
       "    }\n",
       "\n",
       "    .dataframe tbody tr th {\n",
       "        vertical-align: top;\n",
       "    }\n",
       "\n",
       "    .dataframe thead th {\n",
       "        text-align: right;\n",
       "    }\n",
       "</style>\n",
       "<table border=\"1\" class=\"dataframe\">\n",
       "  <thead>\n",
       "    <tr style=\"text-align: right;\">\n",
       "      <th></th>\n",
       "      <th>par_id</th>\n",
       "      <th>text</th>\n",
       "      <th>label</th>\n",
       "      <th>orig_label</th>\n",
       "    </tr>\n",
       "  </thead>\n",
       "  <tbody>\n",
       "    <tr>\n",
       "      <th>0</th>\n",
       "      <td>3737</td>\n",
       "      <td>NEW YORK -- New York officials and community a...</td>\n",
       "      <td>0</td>\n",
       "      <td>0</td>\n",
       "    </tr>\n",
       "    <tr>\n",
       "      <th>1</th>\n",
       "      <td>7710</td>\n",
       "      <td>Cheri Van Loon posted that ' smart men respect...</td>\n",
       "      <td>0</td>\n",
       "      <td>0</td>\n",
       "    </tr>\n",
       "    <tr>\n",
       "      <th>2</th>\n",
       "      <td>4415</td>\n",
       "      <td>Nairobi , Kenya - After enduring months of gre...</td>\n",
       "      <td>0</td>\n",
       "      <td>0</td>\n",
       "    </tr>\n",
       "    <tr>\n",
       "      <th>3</th>\n",
       "      <td>9343</td>\n",
       "      <td>\"Lougene has this message to others who may st...</td>\n",
       "      <td>1</td>\n",
       "      <td>4</td>\n",
       "    </tr>\n",
       "    <tr>\n",
       "      <th>4</th>\n",
       "      <td>3922</td>\n",
       "      <td>\"\"\" The humanitarian architecture has not kept...</td>\n",
       "      <td>0</td>\n",
       "      <td>0</td>\n",
       "    </tr>\n",
       "  </tbody>\n",
       "</table>\n",
       "</div>"
      ],
      "text/plain": [
       "  par_id                                               text  label orig_label\n",
       "0   3737  NEW YORK -- New York officials and community a...      0          0\n",
       "1   7710  Cheri Van Loon posted that ' smart men respect...      0          0\n",
       "2   4415  Nairobi , Kenya - After enduring months of gre...      0          0\n",
       "3   9343  \"Lougene has this message to others who may st...      1          4\n",
       "4   3922  \"\"\" The humanitarian architecture has not kept...      0          0"
      ]
     },
     "execution_count": 68,
     "metadata": {},
     "output_type": "execute_result"
    }
   ],
   "source": [
    "nltk.download('omw-1.4')\n",
    "nltk.download('wordnet')\n",
    "nltk.download(\"omw\")\n",
    "\n",
    "augmented_train_set = train_set.copy()\n",
    "\n",
    "# Filter the dataframe to only include the rows with orig_label 2 or 3\n",
    "filtered_train_set = augmented_train_set[augmented_train_set['orig_label'].isin([\"2\", \"3\", \"4\"])].reset_index(drop=True)\n",
    "\n",
    "# Define a function to perform synonym replacement\n",
    "def synonym_replacement(sentence):\n",
    "    words = sentence.split()\n",
    "    new_sentence = []\n",
    "    for word in words:\n",
    "        synonyms = wordnet.synsets(word)\n",
    "        if len(synonyms) > 0:\n",
    "            new_word = synonyms[0].lemmas()[0].name()  # Use the first synonym\n",
    "            if new_word != word:\n",
    "                new_sentence.append(new_word)\n",
    "            else:\n",
    "                new_sentence.append(word)\n",
    "        else:\n",
    "            new_sentence.append(word)\n",
    "    return ' '.join(new_sentence)\n",
    "\n",
    "# Define a function to perform random deletion\n",
    "def random_deletion(sentence, p=0.5):\n",
    "    words = sentence.split()\n",
    "    new_sentence = []\n",
    "    for word in words:\n",
    "        if random.uniform(0, 1) < p:\n",
    "            continue\n",
    "        else:\n",
    "            new_sentence.append(word)\n",
    "    return ' '.join(new_sentence)\n",
    "\n",
    "# Define a function to perform random swap\n",
    "def random_swap(sentence, n=3):\n",
    "    words = sentence.split()\n",
    "    new_sentence = words.copy()\n",
    "    for i in range(n):\n",
    "        idx1, idx2 = random.sample(range(len(words)), 2)\n",
    "        new_sentence[idx1], new_sentence[idx2] = new_sentence[idx2], new_sentence[idx1]\n",
    "    return ' '.join(new_sentence)\n",
    "\n",
    "# Apply the data augmentation techniques to the filtered dataset\n",
    "\n",
    "augmented_data = filtered_train_set.copy()\n",
    "augmented_data_1 = filtered_train_set.copy()\n",
    "augmented_data_2 = filtered_train_set.copy()\n",
    "augmented_data_3 = filtered_train_set.copy()\n",
    "\n",
    "augmented_data_synonym = filtered_train_set.copy()\n",
    "augmented_data_del = filtered_train_set.copy()\n",
    "augmented_data_swap = filtered_train_set.copy()\n",
    "\n",
    "####### augmented_data is augmented three ways #######\n",
    "\n",
    "augmented_data_synonym['text'] = augmented_data['text'].apply(synonym_replacement)\n",
    "augmented_data_del['text'] = augmented_data['text'].apply(random_deletion)\n",
    "#augmented_data_swap['text'] = augmented_data['text'].apply(random_swap)\n",
    "\n",
    "\n",
    "# concatenate the original training data with the augmented data generated by each technique\n",
    "augmented_data_1_aux = augmented_data_synonym.sample(frac=0.6).reset_index(drop=True)\n",
    "augmented_data_2_aux = augmented_data_del.sample(frac=0.4).reset_index(drop=True)\n",
    "#augmented_data_3_aux = augmented_data_swap.sample(frac=0.4).reset_index(drop=True) # Not useful\n",
    "\n",
    "concatenated_data = pd.concat([\n",
    "    filtered_train_set.sample(frac=0.7),\n",
    "    augmented_data_1_aux,\n",
    "    augmented_data_2_aux,\n",
    "#    augmented_data_3_aux\n",
    "], ignore_index=True)\n",
    "\n",
    "# shuffle the concatenated data\n",
    "augmented_data = concatenated_data.sample(frac=1).reset_index(drop=True)\n",
    "\n",
    "print(\"\\nNo. of added examples for full Data Augmentation:             \", len(augmented_data)-len(filtered_train_set))\n",
    "\n",
    "\n",
    "####### augmented_data_1 is augmented via synonym ######\n",
    "\n",
    "augmented_data_1['text'] = augmented_data_1['text'].apply(synonym_replacement)\n",
    "augmented_data_1 = pd.concat([augmented_data_1, filtered_train_set.copy().sample(frac=0.6).reset_index(drop=True)])\n",
    "\n",
    "print(\"No. of added examples for synonym Data Augmentation:          \", len(augmented_data_1)-len(filtered_train_set))\n",
    "\n",
    "##### augmented_data_2 is augmented via random deletion ######\n",
    "\n",
    "augmented_data_2['text'] = augmented_data_2['text'].apply(random_deletion)\n",
    "augmented_data_2 = pd.concat([augmented_data_2, filtered_train_set.copy().sample(frac=0.6).reset_index(drop=True)])\n",
    "\n",
    "print(\"No. of added examples for random deletion Data Augmentation:  \", len(augmented_data_2)-len(filtered_train_set))\n",
    "\n",
    "\n",
    "####### augmented_data_3 is augmented via random swap ######\n",
    "\n",
    "augmented_data_3['text'] = augmented_data_3['text'].apply(random_swap)\n",
    "augmented_data_3 = pd.concat([augmented_data_3, filtered_train_set.copy().sample(frac=0.6).reset_index(drop=True)])\n",
    "\n",
    "print(\"No. of added examples for random swap Data Augmentation:      \", len(augmented_data_3)-len(filtered_train_set))\n",
    "\n",
    "\n",
    "# Concatenate the original train set with the augmented data\n",
    "\n",
    "augmented_train_set_0 = pd.concat([augmented_train_set, augmented_data]).reset_index(drop=True)\n",
    "augmented_train_set_1 = pd.concat([augmented_train_set, augmented_data_1]).reset_index(drop=True)\n",
    "augmented_train_set_2 = pd.concat([augmented_train_set, augmented_data_2]).reset_index(drop=True)\n",
    "augmented_train_set_3 = pd.concat([augmented_train_set, augmented_data_3]).reset_index(drop=True)\n",
    "\n",
    "print(f\"\\nPreviously, we had about {len(train_set)} sentences, now we have {len(augmented_train_set_0)} sentences\")\n",
    "augmented_train_set.head()"
   ]
  },
  {
   "cell_type": "markdown",
   "id": "c94a090a-2072-4ec5-9246-91a00332dd54",
   "metadata": {},
   "source": [
    "**Recap of the elements BEFORE downsampling**"
   ]
  },
  {
   "cell_type": "code",
   "execution_count": 69,
   "id": "f0da1b2e-b447-4def-b23a-c28ab4110920",
   "metadata": {
    "tags": []
   },
   "outputs": [
    {
     "name": "stdout",
     "output_type": "stream",
     "text": [
      "train_set contains 6700 sentences\n",
      "augmented_train_set_0 contains 7802 sentences\n",
      "augmented_train_set_1 contains 7737 sentences\n",
      "augmented_train_set_2 contains 7737 sentences\n",
      "augmented_train_set_3 contains 7737 sentences\n",
      "\n",
      "Proportion before on the full DA dataset: 0.22430146116380414\n"
     ]
    },
    {
     "name": "stderr",
     "output_type": "stream",
     "text": [
      "/tmp/ipykernel_246/1963742345.py:7: FutureWarning: The default value of numeric_only in DataFrame.mean is deprecated. In a future version, it will default to False. In addition, specifying 'numeric_only=None' is deprecated. Select only valid columns or specify the value of numeric_only to silence this warning.\n",
      "  print(\"\\nProportion before on the full DA dataset:\", augmented_train_set_0.mean()[\"label\"])\n"
     ]
    }
   ],
   "source": [
    "print(f\"train_set contains {len(train_set)} sentences\")\n",
    "print(f\"augmented_train_set_0 contains {len(augmented_train_set_0)} sentences\")\n",
    "print(f\"augmented_train_set_1 contains {len(augmented_train_set_1)} sentences\")\n",
    "print(f\"augmented_train_set_2 contains {len(augmented_train_set_2)} sentences\")\n",
    "print(f\"augmented_train_set_3 contains {len(augmented_train_set_3)} sentences\")\n",
    "\n",
    "print(\"\\nProportion before on the full DA dataset:\", augmented_train_set_0.mean()[\"label\"])"
   ]
  },
  {
   "cell_type": "markdown",
   "id": "5273c6b3-8860-4d38-bc27-e729e693cb70",
   "metadata": {},
   "source": [
    "## Down sampling"
   ]
  },
  {
   "cell_type": "code",
   "execution_count": 70,
   "id": "eadae600-76b4-4c65-8c17-1d098779fb25",
   "metadata": {
    "tags": []
   },
   "outputs": [
    {
     "name": "stdout",
     "output_type": "stream",
     "text": [
      "Previously, we had about 6700 sentences, now we have 3500 sentences\n",
      "Previously, we had about 6700 sentences, now we have 3370 sentences\n",
      "Previously, we had about 6700 sentences, now we have 3370 sentences\n",
      "Previously, we had about 6700 sentences, now we have 3370 sentences\n",
      "\n",
      "Proportion is now equal: 0.5\n"
     ]
    },
    {
     "name": "stderr",
     "output_type": "stream",
     "text": [
      "/tmp/ipykernel_246/2061060823.py:42: FutureWarning: The default value of numeric_only in DataFrame.mean is deprecated. In a future version, it will default to False. In addition, specifying 'numeric_only=None' is deprecated. Select only valid columns or specify the value of numeric_only to silence this warning.\n",
      "  print(\"\\nProportion is now equal:\", augmented_train_set_3.mean()[\"label\"])\n",
      "/tmp/ipykernel_246/2061060823.py:44: FutureWarning: The default value of numeric_only in DataFrame.mean is deprecated. In a future version, it will default to False. In addition, specifying 'numeric_only=None' is deprecated. Select only valid columns or specify the value of numeric_only to silence this warning.\n",
      "  assert augmented_train_set_0.mean()[\"label\"] == 0.5, print(\"Error regarding proportions\")\n"
     ]
    }
   ],
   "source": [
    "pcl_labels = augmented_train_set_0.loc[augmented_train_set_0['label'] == 1]\n",
    "no_pcl_labels = augmented_train_set_0.loc[augmented_train_set_0['label'] == 0]\n",
    "\n",
    "no_pcl_labels_modified = resample(no_pcl_labels,\n",
    "             replace=True,\n",
    "             n_samples=len(pcl_labels))\n",
    "\n",
    "augmented_train_set_0 = pd.concat([pcl_labels, no_pcl_labels_modified]).sample(frac=1).reset_index(drop=True)\n",
    "print(f\"Previously, we had about {len(train_set)} sentences, now we have {len(augmented_train_set_0)} sentences\")\n",
    "augmented_train_set_0.describe()\n",
    "\n",
    "pcl_labels = augmented_train_set_1.loc[augmented_train_set_1['label'] == 1]\n",
    "no_pcl_labels = augmented_train_set_1.loc[augmented_train_set_1['label'] == 0]\n",
    "\n",
    "no_pcl_labels_modified = resample(no_pcl_labels,\n",
    "             replace=True,\n",
    "             n_samples=len(pcl_labels))\n",
    "\n",
    "augmented_train_set_1 = pd.concat([pcl_labels, no_pcl_labels_modified]).sample(frac=1).reset_index(drop=True)\n",
    "print(f\"Previously, we had about {len(train_set)} sentences, now we have {len(augmented_train_set_1)} sentences\")\n",
    "augmented_train_set_1.describe()\n",
    "\n",
    "pcl_labels = augmented_train_set_2.loc[augmented_train_set_2['label'] == 1]\n",
    "no_pcl_labels = augmented_train_set_2.loc[augmented_train_set_2['label'] == 0]\n",
    "\n",
    "no_pcl_labels_modified = resample(no_pcl_labels,\n",
    "             replace=True,\n",
    "             n_samples=len(pcl_labels))\n",
    "\n",
    "augmented_train_set_2 = pd.concat([pcl_labels, no_pcl_labels_modified]).sample(frac=1).reset_index(drop=True)\n",
    "print(f\"Previously, we had about {len(train_set)} sentences, now we have {len(augmented_train_set_2)} sentences\")\n",
    "\n",
    "pcl_labels = augmented_train_set_3.loc[augmented_train_set_3['label'] == 1]\n",
    "no_pcl_labels = augmented_train_set_3.loc[augmented_train_set_3['label'] == 0]\n",
    "\n",
    "no_pcl_labels_modified = resample(no_pcl_labels,\n",
    "             replace=True,\n",
    "             n_samples=len(pcl_labels))\n",
    "\n",
    "augmented_train_set_3 = pd.concat([pcl_labels, no_pcl_labels_modified]).sample(frac=1).reset_index(drop=True)\n",
    "print(f\"Previously, we had about {len(train_set)} sentences, now we have {len(augmented_train_set_3)} sentences\")\n",
    "print(\"\\nProportion is now equal:\", augmented_train_set_3.mean()[\"label\"])\n",
    "\n",
    "assert augmented_train_set_0.mean()[\"label\"] == 0.5, print(\"Error regarding proportions\")"
   ]
  },
  {
   "cell_type": "markdown",
   "id": "8deb634f-1ea8-4c0f-a33a-09926174c023",
   "metadata": {},
   "source": [
    "Now we have four additional augmented datasets:\n",
    "- augmented_train_set_0\n",
    "- augmented_train_set_1\n",
    "- augmented_train_set_2\n",
    "- augmented_train_set_3"
   ]
  },
  {
   "cell_type": "markdown",
   "id": "48bbbc52-60c5-4a2e-8fe6-7a8bd5d52682",
   "metadata": {},
   "source": [
    "**Recap of the datasets AFTER downsampling**"
   ]
  },
  {
   "cell_type": "code",
   "execution_count": 71,
   "id": "df882ee1-bf23-4d3c-b351-5af4d3865208",
   "metadata": {},
   "outputs": [
    {
     "name": "stdout",
     "output_type": "stream",
     "text": [
      "train_set contains 6700 sentences\n",
      "augmented_train_set_0 contains 3500 sentences\n",
      "augmented_train_set_1 contains 3370 sentences\n",
      "augmented_train_set_2 contains 3370 sentences\n",
      "augmented_train_set_3 contains 3370 sentences\n"
     ]
    },
    {
     "data": {
      "text/html": [
       "<div>\n",
       "<style scoped>\n",
       "    .dataframe tbody tr th:only-of-type {\n",
       "        vertical-align: middle;\n",
       "    }\n",
       "\n",
       "    .dataframe tbody tr th {\n",
       "        vertical-align: top;\n",
       "    }\n",
       "\n",
       "    .dataframe thead th {\n",
       "        text-align: right;\n",
       "    }\n",
       "</style>\n",
       "<table border=\"1\" class=\"dataframe\">\n",
       "  <thead>\n",
       "    <tr style=\"text-align: right;\">\n",
       "      <th></th>\n",
       "      <th>par_id</th>\n",
       "      <th>text</th>\n",
       "      <th>label</th>\n",
       "      <th>orig_label</th>\n",
       "    </tr>\n",
       "  </thead>\n",
       "  <tbody>\n",
       "    <tr>\n",
       "      <th>0</th>\n",
       "      <td>2316</td>\n",
       "      <td>A refugee . person , with , , accomplishments ...</td>\n",
       "      <td>1</td>\n",
       "      <td>4</td>\n",
       "    </tr>\n",
       "    <tr>\n",
       "      <th>1</th>\n",
       "      <td>1024</td>\n",
       "      <td>How women are still waiting for equality in th...</td>\n",
       "      <td>0</td>\n",
       "      <td>0</td>\n",
       "    </tr>\n",
       "    <tr>\n",
       "      <th>2</th>\n",
       "      <td>6409</td>\n",
       "      <td>\"In an internal memo , 21st Century Fox Chairm...</td>\n",
       "      <td>0</td>\n",
       "      <td>0</td>\n",
       "    </tr>\n",
       "    <tr>\n",
       "      <th>3</th>\n",
       "      <td>2651</td>\n",
       "      <td>\"\"\" People in north India have n't been really...</td>\n",
       "      <td>0</td>\n",
       "      <td>0</td>\n",
       "    </tr>\n",
       "    <tr>\n",
       "      <th>4</th>\n",
       "      <td>962</td>\n",
       "      <td>This is not a scarce case in Yemen as a number...</td>\n",
       "      <td>0</td>\n",
       "      <td>1</td>\n",
       "    </tr>\n",
       "  </tbody>\n",
       "</table>\n",
       "</div>"
      ],
      "text/plain": [
       "  par_id                                               text  label orig_label\n",
       "0   2316  A refugee . person , with , , accomplishments ...      1          4\n",
       "1   1024  How women are still waiting for equality in th...      0          0\n",
       "2   6409  \"In an internal memo , 21st Century Fox Chairm...      0          0\n",
       "3   2651  \"\"\" People in north India have n't been really...      0          0\n",
       "4    962  This is not a scarce case in Yemen as a number...      0          1"
      ]
     },
     "execution_count": 71,
     "metadata": {},
     "output_type": "execute_result"
    }
   ],
   "source": [
    "print(f\"train_set contains {len(train_set)} sentences\")\n",
    "print(f\"augmented_train_set_0 contains {len(augmented_train_set_0)} sentences\")\n",
    "print(f\"augmented_train_set_1 contains {len(augmented_train_set_1)} sentences\")\n",
    "print(f\"augmented_train_set_2 contains {len(augmented_train_set_2)} sentences\")\n",
    "print(f\"augmented_train_set_3 contains {len(augmented_train_set_3)} sentences\")\n",
    "\n",
    "augmented_train_set_0.head()"
   ]
  },
  {
   "cell_type": "markdown",
   "id": "1771c828-4771-47fb-bac1-a5f88c0cd34f",
   "metadata": {},
   "source": [
    "# Functions"
   ]
  },
  {
   "cell_type": "markdown",
   "id": "fa6bdea0-75ae-4db3-a152-e823fd10b25a",
   "metadata": {},
   "source": [
    "## Create DpmData instances"
   ]
  },
  {
   "cell_type": "code",
   "execution_count": 72,
   "id": "1416902b-6b2b-4cbf-b719-bb79a372df2e",
   "metadata": {},
   "outputs": [],
   "source": [
    "training_set = DpmData(train_set, tokenizer, MAX_LEN)\n",
    "validation_set = DpmData(val_set, tokenizer, MAX_LEN)\n",
    "testing_set = DpmData(test_set, tokenizer, MAX_LEN)\n",
    "Dpm_augmented_training_set_0 = DpmData(augmented_train_set_0, tokenizer, MAX_LEN)\n",
    "Dpm_augmented_training_set_1 = DpmData(augmented_train_set_1, tokenizer, MAX_LEN)\n",
    "Dpm_augmented_training_set_2 = DpmData(augmented_train_set_2, tokenizer, MAX_LEN)\n",
    "Dpm_augmented_training_set_3 = DpmData(augmented_train_set_3, tokenizer, MAX_LEN)\n",
    "real_testing_set = DpmData(real_test_set, tokenizer, MAX_LEN)\n",
    "\n",
    "\n",
    "train_params = {'batch_size': TRAIN_BATCH_SIZE,\n",
    "                'shuffle': True,\n",
    "                'num_workers': 0\n",
    "                }\n",
    "\n",
    "test_params = {'batch_size': VALID_BATCH_SIZE,\n",
    "                'shuffle': False,\n",
    "                'num_workers': 0\n",
    "                }\n",
    "\n",
    "training_loader = DataLoader(training_set, **train_params)\n",
    "validation_loader = DataLoader(validation_set, **test_params)\n",
    "testing_loader = DataLoader(testing_set, **test_params)\n",
    "\n",
    "real_testing_loader = DataLoader(real_testing_set, **test_params)\n",
    "augmented_training_loader_0 = DataLoader(Dpm_augmented_training_set_0, **train_params)\n",
    "augmented_training_loader_1 = DataLoader(Dpm_augmented_training_set_1, **train_params)\n",
    "augmented_training_loader_2 = DataLoader(Dpm_augmented_training_set_2, **train_params)\n",
    "augmented_training_loader_3 = DataLoader(Dpm_augmented_training_set_3, **train_params)"
   ]
  },
  {
   "cell_type": "markdown",
   "id": "d60f7c40-fde0-4f42-9f84-e37fb5faa2d8",
   "metadata": {},
   "source": [
    "Now, we have 8 loaders:\n",
    "- training_loader\n",
    "- validation_loader\n",
    "- test_loader\n",
    "- real_testing_loader\n",
    "- augmented_training_loader_0\n",
    "- augmented_training_loader_1\n",
    "- augmented_training_loader_2\n",
    "- augmented_training_loader_3"
   ]
  },
  {
   "cell_type": "markdown",
   "id": "9fa90677-0edc-4673-b559-a0a7f2c42f16",
   "metadata": {},
   "source": [
    "## Roberta Class init"
   ]
  },
  {
   "cell_type": "code",
   "execution_count": 73,
   "id": "15be6b9c-d097-42e2-bc74-3bae730a53d4",
   "metadata": {
    "tags": []
   },
   "outputs": [],
   "source": [
    "class RobertaClass(torch.nn.Module):\n",
    "    def __init__(self):\n",
    "        super(RobertaClass, self).__init__()\n",
    "        self.l1 = RobertaModel.from_pretrained(\"roberta-base\")\n",
    "        self.pre_classifier = torch.nn.Linear(768, 768)\n",
    "        self.dropout = torch.nn.Dropout(0.3)\n",
    "        self.classifier = torch.nn.Linear(768, 1)\n",
    "\n",
    "    def forward(self, input_ids, attention_mask, token_type_ids):\n",
    "        output_1 = self.l1(input_ids=input_ids, attention_mask=attention_mask, token_type_ids=token_type_ids)\n",
    "        hidden_state = output_1[0]\n",
    "        pooler = hidden_state[:, 0]\n",
    "        pooler = self.pre_classifier(pooler)\n",
    "        pooler = torch.nn.ReLU()(pooler)\n",
    "        pooler = self.dropout(pooler)\n",
    "        output = self.classifier(pooler)\n",
    "        output = torch.nn.Sigmoid()(output)\n",
    "        return output"
   ]
  },
  {
   "cell_type": "markdown",
   "id": "9b16d5ef-fd3a-47bf-95f4-368948ecbab4",
   "metadata": {},
   "source": [
    "## Loss functions + Metrics"
   ]
  },
  {
   "cell_type": "code",
   "execution_count": 74,
   "id": "5b69ced3-4827-4d5a-a3f8-e596c49f5c8c",
   "metadata": {},
   "outputs": [],
   "source": [
    "def calculate_accuracy(preds, targets):\n",
    "    n_correct = (preds==targets).sum().item()\n",
    "    return n_correct\n",
    "\n",
    "def calculate_f1_score(preds, targets):\n",
    "        \n",
    "    true_positives = ((preds == 1) & (targets == 1)).sum().item()\n",
    "    false_positives = ((preds == 1) & (targets == 0)).sum().item()\n",
    "    false_negatives = ((preds == 0) & (targets == 1)).sum().item()\n",
    "    true_negatives = ((preds == 0) & (targets == 0)).sum().item()\n",
    "        \n",
    "    if true_positives + false_positives != 0:\n",
    "        precision = true_positives / (true_positives + false_positives)\n",
    "    else:\n",
    "        precision = 0\n",
    "    if true_positives + false_negatives != 0:\n",
    "        recall = true_positives / (true_positives + false_negatives)\n",
    "    else:\n",
    "        recall = 0\n",
    "    \n",
    "    if precision + recall != 0:\n",
    "        f1_score = 2 * (precision * recall) / (precision + recall)\n",
    "    else:\n",
    "        f1_score = 0\n",
    "    \n",
    "    return f1_score"
   ]
  },
  {
   "cell_type": "markdown",
   "id": "c51ec19d-ddec-40ac-b97e-0eda9c2f85d6",
   "metadata": {},
   "source": [
    "## Training loop function"
   ]
  },
  {
   "cell_type": "code",
   "execution_count": 75,
   "id": "9051f757-e444-4e33-824e-3b5cefa4516b",
   "metadata": {
    "tags": []
   },
   "outputs": [],
   "source": [
    "def valid(model, validation_loader):\n",
    "    model.eval()\n",
    "    f1_scores = []\n",
    "    n_correct = 0; n_wrong = 0; total = 0; tr_loss=0; nb_tr_steps=0; nb_tr_examples=0\n",
    "    \n",
    "    preds, targs = [], []\n",
    "    \n",
    "    with torch.no_grad():\n",
    "        for _, data in tqdm(enumerate(validation_loader, 0)):\n",
    "            ids = data['ids'].to(DEVICE, dtype = torch.long)\n",
    "            mask = data['mask'].to(DEVICE, dtype = torch.long)\n",
    "            token_type_ids = data['token_type_ids'].to(DEVICE, dtype=torch.long)\n",
    "            targets = data['targets'].to(DEVICE, dtype = torch.long)\n",
    "            outputs = model(ids, mask, token_type_ids).squeeze()            \n",
    "            \n",
    "            targets = targets.float()\n",
    "            loss_fn = torch.nn.BCELoss()\n",
    "            loss = loss_fn(outputs, targets)\n",
    "            \n",
    "            tr_loss += loss.item()\n",
    "            big_idx = torch.round(outputs.data, decimals=0)            \n",
    "            n_correct += calculate_accuracy(big_idx, targets)\n",
    "            \n",
    "            preds.extend(list(big_idx))\n",
    "            targs.extend(list(targets))\n",
    "                        \n",
    "            nb_tr_steps += 1\n",
    "            nb_tr_examples+=targets.size(0)\n",
    "            \n",
    "            if _%5000==0:\n",
    "                loss_step = tr_loss/nb_tr_steps\n",
    "                \n",
    "                accu_step = (n_correct*100)/nb_tr_examples                \n",
    "            \n",
    "    f1_scores.append(calculate_f1_score(np.array(torch.Tensor(preds).cpu()), np.array(torch.Tensor(targs).cpu())))\n",
    "            \n",
    "    epoch_loss = tr_loss/nb_tr_steps\n",
    "    epoch_accu = (n_correct*100)/nb_tr_examples\n",
    "    \n",
    "    return epoch_accu, f1_scores[-1]\n",
    "\n",
    "def train(dataset_loader, lr=1e-05, Roberta=True, number_of_epochs=3, number_of_validation_score_calc=7):\n",
    "    \n",
    "    if Roberta:\n",
    "        model = RobertaClass()\n",
    "        model.to(DEVICE)\n",
    "    \n",
    "    optimizer = torch.optim.Adam(params=model.parameters(), lr=lr)\n",
    "    \n",
    "    tr_loss = 0\n",
    "    n_correct = 0\n",
    "    nb_tr_steps = 0\n",
    "    nb_tr_examples = 0\n",
    "    preds, targs = [], []\n",
    "    f1_scores = []\n",
    "    val_f1_scores = []\n",
    "    model.train()\n",
    "    \n",
    "    number_of_validation_score_calc_per_epoch = number_of_validation_score_calc / number_of_epochs    \n",
    "    \n",
    "    for epoch_number in range(number_of_epochs):\n",
    "        for _, data in tqdm(enumerate(dataset_loader, 0)):\n",
    "            every = len(dataset_loader) // number_of_validation_score_calc_per_epoch\n",
    "            \n",
    "            ids = data['ids'].to(DEVICE, dtype = torch.long)\n",
    "            mask = data['mask'].to(DEVICE, dtype = torch.long)\n",
    "            token_type_ids = data['token_type_ids'].to(DEVICE, dtype = torch.long)\n",
    "            targets = data['targets'].to(DEVICE, dtype = torch.long)\n",
    "\n",
    "            outputs = model(ids, mask, token_type_ids)\n",
    "\n",
    "            targets = targets.unsqueeze(1).float()\n",
    "            loss_fn = torch.nn.BCELoss()\n",
    "            loss = loss_fn(outputs, targets)\n",
    "            tr_loss += loss.item()\n",
    "\n",
    "            big_idx = torch.round(outputs.data, decimals=0)\n",
    "            n_correct += calculate_accuracy(big_idx, targets)\n",
    "\n",
    "            preds.extend(list(big_idx))\n",
    "            targs.extend(list(targets))\n",
    "\n",
    "            nb_tr_steps += 1\n",
    "            nb_tr_examples+=targets.size(0)\n",
    "\n",
    "            if _%100==0:\n",
    "                loss_step = tr_loss/nb_tr_steps\n",
    "                accu_step = (n_correct*100)/nb_tr_examples \n",
    "\n",
    "                f1_scores.append(calculate_f1_score(np.array(torch.Tensor(preds).cpu()), np.array(torch.Tensor(targs).cpu())))\n",
    "                preds, targs = [], []\n",
    "                \n",
    "            if _%every==0:\n",
    "                val_f1_scores.append(valid(model, validation_loader)[1])\n",
    "                print(\"F1 validation:\", val_f1_scores[-1])\n",
    "\n",
    "            optimizer.zero_grad()\n",
    "            loss.backward()\n",
    "            optimizer.step()\n",
    "\n",
    "        epoch_loss = tr_loss/nb_tr_steps\n",
    "        epoch_accu = (n_correct*100)/nb_tr_examples\n",
    "\n",
    "    return model, f1_scores, val_f1_scores\n"
   ]
  },
  {
   "cell_type": "markdown",
   "id": "a74925fa-63a4-45cf-8f46-ce6c667896d8",
   "metadata": {},
   "source": [
    "# EXECUTING"
   ]
  },
  {
   "cell_type": "code",
   "execution_count": 76,
   "id": "e1681257-ed36-40f8-8aaa-8a06831730ea",
   "metadata": {
    "tags": []
   },
   "outputs": [
    {
     "name": "stdout",
     "output_type": "stream",
     "text": [
      "\n",
      "\n",
      "Starting training with loader training_loader of length 838...\n",
      "\n"
     ]
    },
    {
     "name": "stderr",
     "output_type": "stream",
     "text": [
      "Some weights of the model checkpoint at roberta-base were not used when initializing RobertaModel: ['lm_head.bias', 'lm_head.layer_norm.weight', 'lm_head.dense.weight', 'lm_head.layer_norm.bias', 'lm_head.dense.bias', 'lm_head.decoder.weight']\n",
      "- This IS expected if you are initializing RobertaModel from the checkpoint of a model trained on another task or with another architecture (e.g. initializing a BertForSequenceClassification model from a BertForPreTraining model).\n",
      "- This IS NOT expected if you are initializing RobertaModel from the checkpoint of a model that you expect to be exactly identical (initializing a BertForSequenceClassification model from a BertForSequenceClassification model).\n"
     ]
    },
    {
     "data": {
      "application/vnd.jupyter.widget-view+json": {
       "model_id": "3bb325d5703d4161aa869cbe79414cfc",
       "version_major": 2,
       "version_minor": 0
      },
      "text/plain": [
       "0it [00:00, ?it/s]"
      ]
     },
     "metadata": {},
     "output_type": "display_data"
    },
    {
     "name": "stderr",
     "output_type": "stream",
     "text": [
      "Truncation was not explicitly activated but `max_length` is provided a specific value, please use `truncation=True` to explicitly truncate examples to max length. Defaulting to 'longest_first' truncation strategy. If you encode pairs of sequences (GLUE-style) with the tokenizer you can select this strategy more precisely by providing a specific strategy to `truncation`.\n",
      "/usr/local/lib/python3.9/dist-packages/transformers/tokenization_utils_base.py:2323: FutureWarning: The `pad_to_max_length` argument is deprecated and will be removed in a future version, use `padding=True` or `padding='longest'` to pad to the longest sequence in the batch, or use `padding='max_length'` to pad to a max length. In this case, you can give a specific length with `max_length` (e.g. `max_length=45`) or leave max_length to None to pad to the maximal input size of the model (e.g. 512 for Bert).\n",
      "  warnings.warn(\n"
     ]
    },
    {
     "data": {
      "application/vnd.jupyter.widget-view+json": {
       "model_id": "1705f5a6ae1a46ecb9aa06df05cf08a4",
       "version_major": 2,
       "version_minor": 0
      },
      "text/plain": [
       "0it [00:00, ?it/s]"
      ]
     },
     "metadata": {},
     "output_type": "display_data"
    },
    {
     "name": "stdout",
     "output_type": "stream",
     "text": [
      "F1 validation: 0.16035145524437122\n"
     ]
    },
    {
     "data": {
      "application/vnd.jupyter.widget-view+json": {
       "model_id": "644476275243401690f9e1aa374a29b2",
       "version_major": 2,
       "version_minor": 0
      },
      "text/plain": [
       "0it [00:00, ?it/s]"
      ]
     },
     "metadata": {},
     "output_type": "display_data"
    },
    {
     "name": "stdout",
     "output_type": "stream",
     "text": [
      "F1 validation: 0\n"
     ]
    },
    {
     "data": {
      "application/vnd.jupyter.widget-view+json": {
       "model_id": "d650b094a2aa4605b1a0a8ce5548806a",
       "version_major": 2,
       "version_minor": 0
      },
      "text/plain": [
       "0it [00:00, ?it/s]"
      ]
     },
     "metadata": {},
     "output_type": "display_data"
    },
    {
     "name": "stdout",
     "output_type": "stream",
     "text": [
      "F1 validation: 0\n"
     ]
    },
    {
     "data": {
      "application/vnd.jupyter.widget-view+json": {
       "model_id": "595cdb7b9425429f81c9ace640499776",
       "version_major": 2,
       "version_minor": 0
      },
      "text/plain": [
       "0it [00:00, ?it/s]"
      ]
     },
     "metadata": {},
     "output_type": "display_data"
    },
    {
     "name": "stdout",
     "output_type": "stream",
     "text": [
      "F1 validation: 0.5365853658536586\n"
     ]
    },
    {
     "data": {
      "application/vnd.jupyter.widget-view+json": {
       "model_id": "eb9e4a24797346d9af6b51036fc1c65b",
       "version_major": 2,
       "version_minor": 0
      },
      "text/plain": [
       "0it [00:00, ?it/s]"
      ]
     },
     "metadata": {},
     "output_type": "display_data"
    },
    {
     "data": {
      "application/vnd.jupyter.widget-view+json": {
       "model_id": "1787c7f40a6a430a8f130e5b64dca6b5",
       "version_major": 2,
       "version_minor": 0
      },
      "text/plain": [
       "0it [00:00, ?it/s]"
      ]
     },
     "metadata": {},
     "output_type": "display_data"
    },
    {
     "name": "stdout",
     "output_type": "stream",
     "text": [
      "F1 validation: 0.32291666666666663\n"
     ]
    },
    {
     "data": {
      "application/vnd.jupyter.widget-view+json": {
       "model_id": "fb81ffec2fc94ded8eec75dba883c9c9",
       "version_major": 2,
       "version_minor": 0
      },
      "text/plain": [
       "0it [00:00, ?it/s]"
      ]
     },
     "metadata": {},
     "output_type": "display_data"
    },
    {
     "name": "stdout",
     "output_type": "stream",
     "text": [
      "F1 validation: 0.5045045045045046\n"
     ]
    },
    {
     "data": {
      "application/vnd.jupyter.widget-view+json": {
       "model_id": "4486f34ba3cd4f55b4b95ebadeaf204e",
       "version_major": 2,
       "version_minor": 0
      },
      "text/plain": [
       "0it [00:00, ?it/s]"
      ]
     },
     "metadata": {},
     "output_type": "display_data"
    },
    {
     "name": "stdout",
     "output_type": "stream",
     "text": [
      "F1 validation: 0.495575221238938\n"
     ]
    },
    {
     "data": {
      "application/vnd.jupyter.widget-view+json": {
       "model_id": "8ee509afde774552a2206895c9f32f2a",
       "version_major": 2,
       "version_minor": 0
      },
      "text/plain": [
       "0it [00:00, ?it/s]"
      ]
     },
     "metadata": {},
     "output_type": "display_data"
    },
    {
     "name": "stdout",
     "output_type": "stream",
     "text": [
      "F1 validation: 0.5236051502145923\n",
      "\n",
      "\n",
      "Starting training with loader augmented_training_loader_0 of length 438...\n",
      "\n"
     ]
    },
    {
     "name": "stderr",
     "output_type": "stream",
     "text": [
      "Some weights of the model checkpoint at roberta-base were not used when initializing RobertaModel: ['lm_head.bias', 'lm_head.layer_norm.weight', 'lm_head.dense.weight', 'lm_head.layer_norm.bias', 'lm_head.dense.bias', 'lm_head.decoder.weight']\n",
      "- This IS expected if you are initializing RobertaModel from the checkpoint of a model trained on another task or with another architecture (e.g. initializing a BertForSequenceClassification model from a BertForPreTraining model).\n",
      "- This IS NOT expected if you are initializing RobertaModel from the checkpoint of a model that you expect to be exactly identical (initializing a BertForSequenceClassification model from a BertForSequenceClassification model).\n"
     ]
    },
    {
     "data": {
      "application/vnd.jupyter.widget-view+json": {
       "model_id": "ddbff315d8ca409bb2fd430d4818039a",
       "version_major": 2,
       "version_minor": 0
      },
      "text/plain": [
       "0it [00:00, ?it/s]"
      ]
     },
     "metadata": {},
     "output_type": "display_data"
    },
    {
     "data": {
      "application/vnd.jupyter.widget-view+json": {
       "model_id": "f8adce6d335740359f2f7a5a0573cf00",
       "version_major": 2,
       "version_minor": 0
      },
      "text/plain": [
       "0it [00:00, ?it/s]"
      ]
     },
     "metadata": {},
     "output_type": "display_data"
    },
    {
     "name": "stdout",
     "output_type": "stream",
     "text": [
      "F1 validation: 0\n"
     ]
    },
    {
     "data": {
      "application/vnd.jupyter.widget-view+json": {
       "model_id": "7629fe93a72c4979a151d63e3d947302",
       "version_major": 2,
       "version_minor": 0
      },
      "text/plain": [
       "0it [00:00, ?it/s]"
      ]
     },
     "metadata": {},
     "output_type": "display_data"
    },
    {
     "name": "stdout",
     "output_type": "stream",
     "text": [
      "F1 validation: 0.5428571428571429\n"
     ]
    },
    {
     "data": {
      "application/vnd.jupyter.widget-view+json": {
       "model_id": "3bf7bec96c564cbe999980c3c8d96194",
       "version_major": 2,
       "version_minor": 0
      },
      "text/plain": [
       "0it [00:00, ?it/s]"
      ]
     },
     "metadata": {},
     "output_type": "display_data"
    },
    {
     "data": {
      "application/vnd.jupyter.widget-view+json": {
       "model_id": "38da382692fe4a859653051d582cf5ff",
       "version_major": 2,
       "version_minor": 0
      },
      "text/plain": [
       "0it [00:00, ?it/s]"
      ]
     },
     "metadata": {},
     "output_type": "display_data"
    },
    {
     "name": "stdout",
     "output_type": "stream",
     "text": [
      "F1 validation: 0.49471458773784355\n"
     ]
    },
    {
     "data": {
      "application/vnd.jupyter.widget-view+json": {
       "model_id": "f0235f73cc8942ec814b90dcc64b8261",
       "version_major": 2,
       "version_minor": 0
      },
      "text/plain": [
       "0it [00:00, ?it/s]"
      ]
     },
     "metadata": {},
     "output_type": "display_data"
    },
    {
     "name": "stdout",
     "output_type": "stream",
     "text": [
      "F1 validation: 0.5265957446808511\n"
     ]
    },
    {
     "data": {
      "application/vnd.jupyter.widget-view+json": {
       "model_id": "25a6a352a1824235917a612ea0c51478",
       "version_major": 2,
       "version_minor": 0
      },
      "text/plain": [
       "0it [00:00, ?it/s]"
      ]
     },
     "metadata": {},
     "output_type": "display_data"
    },
    {
     "data": {
      "application/vnd.jupyter.widget-view+json": {
       "model_id": "3cd0a26be2d14ac29f8113fdf9a6b906",
       "version_major": 2,
       "version_minor": 0
      },
      "text/plain": [
       "0it [00:00, ?it/s]"
      ]
     },
     "metadata": {},
     "output_type": "display_data"
    },
    {
     "name": "stdout",
     "output_type": "stream",
     "text": [
      "F1 validation: 0.4916666666666667\n"
     ]
    },
    {
     "data": {
      "application/vnd.jupyter.widget-view+json": {
       "model_id": "adbebca1ccfc42cf8ef287eb75330245",
       "version_major": 2,
       "version_minor": 0
      },
      "text/plain": [
       "0it [00:00, ?it/s]"
      ]
     },
     "metadata": {},
     "output_type": "display_data"
    },
    {
     "name": "stdout",
     "output_type": "stream",
     "text": [
      "F1 validation: 0.5069767441860465\n"
     ]
    },
    {
     "data": {
      "application/vnd.jupyter.widget-view+json": {
       "model_id": "dc1e47fc5b0b485ba5a694c2113fef05",
       "version_major": 2,
       "version_minor": 0
      },
      "text/plain": [
       "0it [00:00, ?it/s]"
      ]
     },
     "metadata": {},
     "output_type": "display_data"
    },
    {
     "data": {
      "application/vnd.jupyter.widget-view+json": {
       "model_id": "1c097d2d23a949458fa81d1a48fe3bec",
       "version_major": 2,
       "version_minor": 0
      },
      "text/plain": [
       "0it [00:00, ?it/s]"
      ]
     },
     "metadata": {},
     "output_type": "display_data"
    },
    {
     "name": "stdout",
     "output_type": "stream",
     "text": [
      "F1 validation: 0.5454545454545454\n"
     ]
    },
    {
     "data": {
      "application/vnd.jupyter.widget-view+json": {
       "model_id": "9d5ecb5449dc44678034f59c0423e717",
       "version_major": 2,
       "version_minor": 0
      },
      "text/plain": [
       "0it [00:00, ?it/s]"
      ]
     },
     "metadata": {},
     "output_type": "display_data"
    },
    {
     "name": "stdout",
     "output_type": "stream",
     "text": [
      "F1 validation: 0.5053533190578159\n",
      "\n",
      "\n",
      "Starting training with loader augmented_training_loader_1 of length 422...\n",
      "\n"
     ]
    },
    {
     "name": "stderr",
     "output_type": "stream",
     "text": [
      "Some weights of the model checkpoint at roberta-base were not used when initializing RobertaModel: ['lm_head.bias', 'lm_head.layer_norm.weight', 'lm_head.dense.weight', 'lm_head.layer_norm.bias', 'lm_head.dense.bias', 'lm_head.decoder.weight']\n",
      "- This IS expected if you are initializing RobertaModel from the checkpoint of a model trained on another task or with another architecture (e.g. initializing a BertForSequenceClassification model from a BertForPreTraining model).\n",
      "- This IS NOT expected if you are initializing RobertaModel from the checkpoint of a model that you expect to be exactly identical (initializing a BertForSequenceClassification model from a BertForSequenceClassification model).\n"
     ]
    },
    {
     "data": {
      "application/vnd.jupyter.widget-view+json": {
       "model_id": "e8a0a3581e5f4c939d91bdb8beba55e0",
       "version_major": 2,
       "version_minor": 0
      },
      "text/plain": [
       "0it [00:00, ?it/s]"
      ]
     },
     "metadata": {},
     "output_type": "display_data"
    },
    {
     "data": {
      "application/vnd.jupyter.widget-view+json": {
       "model_id": "2145a7f5b9634d01ac8dc91349dd80fa",
       "version_major": 2,
       "version_minor": 0
      },
      "text/plain": [
       "0it [00:00, ?it/s]"
      ]
     },
     "metadata": {},
     "output_type": "display_data"
    },
    {
     "name": "stdout",
     "output_type": "stream",
     "text": [
      "F1 validation: 0.16035145524437122\n"
     ]
    },
    {
     "data": {
      "application/vnd.jupyter.widget-view+json": {
       "model_id": "df4f23e413d742179d128c3980fca02a",
       "version_major": 2,
       "version_minor": 0
      },
      "text/plain": [
       "0it [00:00, ?it/s]"
      ]
     },
     "metadata": {},
     "output_type": "display_data"
    },
    {
     "name": "stdout",
     "output_type": "stream",
     "text": [
      "F1 validation: 0.463768115942029\n"
     ]
    },
    {
     "data": {
      "application/vnd.jupyter.widget-view+json": {
       "model_id": "f6f8e2a8f2f4451fb3de379d2c4457c8",
       "version_major": 2,
       "version_minor": 0
      },
      "text/plain": [
       "0it [00:00, ?it/s]"
      ]
     },
     "metadata": {},
     "output_type": "display_data"
    },
    {
     "data": {
      "application/vnd.jupyter.widget-view+json": {
       "model_id": "48912eccc7eb47bca1ac3b907c0a4560",
       "version_major": 2,
       "version_minor": 0
      },
      "text/plain": [
       "0it [00:00, ?it/s]"
      ]
     },
     "metadata": {},
     "output_type": "display_data"
    },
    {
     "name": "stdout",
     "output_type": "stream",
     "text": [
      "F1 validation: 0.5241730279898219\n"
     ]
    },
    {
     "data": {
      "application/vnd.jupyter.widget-view+json": {
       "model_id": "62411c652a89455c8259cf79382ea59b",
       "version_major": 2,
       "version_minor": 0
      },
      "text/plain": [
       "0it [00:00, ?it/s]"
      ]
     },
     "metadata": {},
     "output_type": "display_data"
    },
    {
     "name": "stdout",
     "output_type": "stream",
     "text": [
      "F1 validation: 0.4868421052631579\n"
     ]
    },
    {
     "data": {
      "application/vnd.jupyter.widget-view+json": {
       "model_id": "fc72982c54f94b4c9faf076e3102350b",
       "version_major": 2,
       "version_minor": 0
      },
      "text/plain": [
       "0it [00:00, ?it/s]"
      ]
     },
     "metadata": {},
     "output_type": "display_data"
    },
    {
     "data": {
      "application/vnd.jupyter.widget-view+json": {
       "model_id": "329c56c8da84455981ca692dfdb694c4",
       "version_major": 2,
       "version_minor": 0
      },
      "text/plain": [
       "0it [00:00, ?it/s]"
      ]
     },
     "metadata": {},
     "output_type": "display_data"
    },
    {
     "name": "stdout",
     "output_type": "stream",
     "text": [
      "F1 validation: 0.5152838427947598\n"
     ]
    },
    {
     "data": {
      "application/vnd.jupyter.widget-view+json": {
       "model_id": "7c6548aa658f4ea6a0d40a343d664133",
       "version_major": 2,
       "version_minor": 0
      },
      "text/plain": [
       "0it [00:00, ?it/s]"
      ]
     },
     "metadata": {},
     "output_type": "display_data"
    },
    {
     "name": "stdout",
     "output_type": "stream",
     "text": [
      "F1 validation: 0.5267857142857143\n"
     ]
    },
    {
     "data": {
      "application/vnd.jupyter.widget-view+json": {
       "model_id": "4a59ff7165ae42b78cbef37a5c239661",
       "version_major": 2,
       "version_minor": 0
      },
      "text/plain": [
       "0it [00:00, ?it/s]"
      ]
     },
     "metadata": {},
     "output_type": "display_data"
    },
    {
     "data": {
      "application/vnd.jupyter.widget-view+json": {
       "model_id": "53dcfa6bce0941b996dfeefa22a25b0d",
       "version_major": 2,
       "version_minor": 0
      },
      "text/plain": [
       "0it [00:00, ?it/s]"
      ]
     },
     "metadata": {},
     "output_type": "display_data"
    },
    {
     "name": "stdout",
     "output_type": "stream",
     "text": [
      "F1 validation: 0.6018808777429466\n"
     ]
    },
    {
     "data": {
      "application/vnd.jupyter.widget-view+json": {
       "model_id": "0cad05caf60d4717a196b7f338cad6ad",
       "version_major": 2,
       "version_minor": 0
      },
      "text/plain": [
       "0it [00:00, ?it/s]"
      ]
     },
     "metadata": {},
     "output_type": "display_data"
    },
    {
     "name": "stdout",
     "output_type": "stream",
     "text": [
      "F1 validation: 0.552278820375335\n",
      "\n",
      "\n",
      "Starting training with loader augmented_training_loader_2 of length 422...\n",
      "\n"
     ]
    },
    {
     "name": "stderr",
     "output_type": "stream",
     "text": [
      "Some weights of the model checkpoint at roberta-base were not used when initializing RobertaModel: ['lm_head.bias', 'lm_head.layer_norm.weight', 'lm_head.dense.weight', 'lm_head.layer_norm.bias', 'lm_head.dense.bias', 'lm_head.decoder.weight']\n",
      "- This IS expected if you are initializing RobertaModel from the checkpoint of a model trained on another task or with another architecture (e.g. initializing a BertForSequenceClassification model from a BertForPreTraining model).\n",
      "- This IS NOT expected if you are initializing RobertaModel from the checkpoint of a model that you expect to be exactly identical (initializing a BertForSequenceClassification model from a BertForSequenceClassification model).\n"
     ]
    },
    {
     "data": {
      "application/vnd.jupyter.widget-view+json": {
       "model_id": "1747327eaff14384a1022e85c9dd82e4",
       "version_major": 2,
       "version_minor": 0
      },
      "text/plain": [
       "0it [00:00, ?it/s]"
      ]
     },
     "metadata": {},
     "output_type": "display_data"
    },
    {
     "data": {
      "application/vnd.jupyter.widget-view+json": {
       "model_id": "3deede7f6ee24da9afd09dab171ee8e8",
       "version_major": 2,
       "version_minor": 0
      },
      "text/plain": [
       "0it [00:00, ?it/s]"
      ]
     },
     "metadata": {},
     "output_type": "display_data"
    },
    {
     "name": "stdout",
     "output_type": "stream",
     "text": [
      "F1 validation: 0.16035145524437122\n"
     ]
    },
    {
     "data": {
      "application/vnd.jupyter.widget-view+json": {
       "model_id": "bb3a0812080f42059d11cf8ade50a2b0",
       "version_major": 2,
       "version_minor": 0
      },
      "text/plain": [
       "0it [00:00, ?it/s]"
      ]
     },
     "metadata": {},
     "output_type": "display_data"
    },
    {
     "name": "stdout",
     "output_type": "stream",
     "text": [
      "F1 validation: 0.5125628140703518\n"
     ]
    },
    {
     "data": {
      "application/vnd.jupyter.widget-view+json": {
       "model_id": "5fa4011bfacb489baa93aae8048a719f",
       "version_major": 2,
       "version_minor": 0
      },
      "text/plain": [
       "0it [00:00, ?it/s]"
      ]
     },
     "metadata": {},
     "output_type": "display_data"
    },
    {
     "data": {
      "application/vnd.jupyter.widget-view+json": {
       "model_id": "262007101fd84b34a78fc4306385e6ef",
       "version_major": 2,
       "version_minor": 0
      },
      "text/plain": [
       "0it [00:00, ?it/s]"
      ]
     },
     "metadata": {},
     "output_type": "display_data"
    },
    {
     "name": "stdout",
     "output_type": "stream",
     "text": [
      "F1 validation: 0.4518518518518519\n"
     ]
    },
    {
     "data": {
      "application/vnd.jupyter.widget-view+json": {
       "model_id": "22d7a85672f74124ae9d40c06dce0a8b",
       "version_major": 2,
       "version_minor": 0
      },
      "text/plain": [
       "0it [00:00, ?it/s]"
      ]
     },
     "metadata": {},
     "output_type": "display_data"
    },
    {
     "name": "stdout",
     "output_type": "stream",
     "text": [
      "F1 validation: 0.519047619047619\n"
     ]
    },
    {
     "data": {
      "application/vnd.jupyter.widget-view+json": {
       "model_id": "97aa692875c543aa9bed6fd82bee99b6",
       "version_major": 2,
       "version_minor": 0
      },
      "text/plain": [
       "0it [00:00, ?it/s]"
      ]
     },
     "metadata": {},
     "output_type": "display_data"
    },
    {
     "data": {
      "application/vnd.jupyter.widget-view+json": {
       "model_id": "c0b3d46e673c4275a92d8115a80065a5",
       "version_major": 2,
       "version_minor": 0
      },
      "text/plain": [
       "0it [00:00, ?it/s]"
      ]
     },
     "metadata": {},
     "output_type": "display_data"
    },
    {
     "name": "stdout",
     "output_type": "stream",
     "text": [
      "F1 validation: 0.4989429175475687\n"
     ]
    },
    {
     "data": {
      "application/vnd.jupyter.widget-view+json": {
       "model_id": "aee560c725f2487089c199b7cf0bfe13",
       "version_major": 2,
       "version_minor": 0
      },
      "text/plain": [
       "0it [00:00, ?it/s]"
      ]
     },
     "metadata": {},
     "output_type": "display_data"
    },
    {
     "name": "stdout",
     "output_type": "stream",
     "text": [
      "F1 validation: 0.5780346820809248\n"
     ]
    },
    {
     "data": {
      "application/vnd.jupyter.widget-view+json": {
       "model_id": "f6470860ac83456e991d76ada502f6bd",
       "version_major": 2,
       "version_minor": 0
      },
      "text/plain": [
       "0it [00:00, ?it/s]"
      ]
     },
     "metadata": {},
     "output_type": "display_data"
    },
    {
     "data": {
      "application/vnd.jupyter.widget-view+json": {
       "model_id": "7f184d043db14da4983fb1f807d9c89a",
       "version_major": 2,
       "version_minor": 0
      },
      "text/plain": [
       "0it [00:00, ?it/s]"
      ]
     },
     "metadata": {},
     "output_type": "display_data"
    },
    {
     "name": "stdout",
     "output_type": "stream",
     "text": [
      "F1 validation: 0.5513196480938417\n"
     ]
    },
    {
     "data": {
      "application/vnd.jupyter.widget-view+json": {
       "model_id": "ae1a536be1d5490196ad47a4a19bcc91",
       "version_major": 2,
       "version_minor": 0
      },
      "text/plain": [
       "0it [00:00, ?it/s]"
      ]
     },
     "metadata": {},
     "output_type": "display_data"
    },
    {
     "name": "stdout",
     "output_type": "stream",
     "text": [
      "F1 validation: 0.5255813953488372\n",
      "\n",
      "\n",
      "Starting training with loader augmented_training_loader_3 of length 422...\n",
      "\n"
     ]
    },
    {
     "name": "stderr",
     "output_type": "stream",
     "text": [
      "Some weights of the model checkpoint at roberta-base were not used when initializing RobertaModel: ['lm_head.bias', 'lm_head.layer_norm.weight', 'lm_head.dense.weight', 'lm_head.layer_norm.bias', 'lm_head.dense.bias', 'lm_head.decoder.weight']\n",
      "- This IS expected if you are initializing RobertaModel from the checkpoint of a model trained on another task or with another architecture (e.g. initializing a BertForSequenceClassification model from a BertForPreTraining model).\n",
      "- This IS NOT expected if you are initializing RobertaModel from the checkpoint of a model that you expect to be exactly identical (initializing a BertForSequenceClassification model from a BertForSequenceClassification model).\n"
     ]
    },
    {
     "data": {
      "application/vnd.jupyter.widget-view+json": {
       "model_id": "164f53977c2148c6a8acb03280a7de19",
       "version_major": 2,
       "version_minor": 0
      },
      "text/plain": [
       "0it [00:00, ?it/s]"
      ]
     },
     "metadata": {},
     "output_type": "display_data"
    },
    {
     "data": {
      "application/vnd.jupyter.widget-view+json": {
       "model_id": "46334c8d6a6246929fdf8f7179fa022c",
       "version_major": 2,
       "version_minor": 0
      },
      "text/plain": [
       "0it [00:00, ?it/s]"
      ]
     },
     "metadata": {},
     "output_type": "display_data"
    },
    {
     "name": "stdout",
     "output_type": "stream",
     "text": [
      "F1 validation: 0.16035145524437122\n"
     ]
    },
    {
     "data": {
      "application/vnd.jupyter.widget-view+json": {
       "model_id": "5b32dfb2fe7f46d9b29dfe7f5fc0b690",
       "version_major": 2,
       "version_minor": 0
      },
      "text/plain": [
       "0it [00:00, ?it/s]"
      ]
     },
     "metadata": {},
     "output_type": "display_data"
    },
    {
     "name": "stdout",
     "output_type": "stream",
     "text": [
      "F1 validation: 0.4587973273942094\n"
     ]
    },
    {
     "data": {
      "application/vnd.jupyter.widget-view+json": {
       "model_id": "e6fe3117ce00454b8bca64b3b1048d0b",
       "version_major": 2,
       "version_minor": 0
      },
      "text/plain": [
       "0it [00:00, ?it/s]"
      ]
     },
     "metadata": {},
     "output_type": "display_data"
    },
    {
     "data": {
      "application/vnd.jupyter.widget-view+json": {
       "model_id": "a71c868b03384f38a52372445cff8412",
       "version_major": 2,
       "version_minor": 0
      },
      "text/plain": [
       "0it [00:00, ?it/s]"
      ]
     },
     "metadata": {},
     "output_type": "display_data"
    },
    {
     "name": "stdout",
     "output_type": "stream",
     "text": [
      "F1 validation: 0.5103092783505155\n"
     ]
    },
    {
     "data": {
      "application/vnd.jupyter.widget-view+json": {
       "model_id": "5c080148f2254d8480ff78c06a6fd714",
       "version_major": 2,
       "version_minor": 0
      },
      "text/plain": [
       "0it [00:00, ?it/s]"
      ]
     },
     "metadata": {},
     "output_type": "display_data"
    },
    {
     "name": "stdout",
     "output_type": "stream",
     "text": [
      "F1 validation: 0.5291262135922331\n"
     ]
    },
    {
     "data": {
      "application/vnd.jupyter.widget-view+json": {
       "model_id": "a7747ae04d4840b29728e9d816f869a9",
       "version_major": 2,
       "version_minor": 0
      },
      "text/plain": [
       "0it [00:00, ?it/s]"
      ]
     },
     "metadata": {},
     "output_type": "display_data"
    },
    {
     "data": {
      "application/vnd.jupyter.widget-view+json": {
       "model_id": "7ded02bf45464b0d96cebc1b4c4ea6dc",
       "version_major": 2,
       "version_minor": 0
      },
      "text/plain": [
       "0it [00:00, ?it/s]"
      ]
     },
     "metadata": {},
     "output_type": "display_data"
    },
    {
     "name": "stdout",
     "output_type": "stream",
     "text": [
      "F1 validation: 0.5406976744186046\n"
     ]
    },
    {
     "data": {
      "application/vnd.jupyter.widget-view+json": {
       "model_id": "3fd926bb859d4a2cb39a3c18af813226",
       "version_major": 2,
       "version_minor": 0
      },
      "text/plain": [
       "0it [00:00, ?it/s]"
      ]
     },
     "metadata": {},
     "output_type": "display_data"
    },
    {
     "name": "stdout",
     "output_type": "stream",
     "text": [
      "F1 validation: 0.532608695652174\n"
     ]
    },
    {
     "data": {
      "application/vnd.jupyter.widget-view+json": {
       "model_id": "d56cffe5b6bd475d801cb7eb9720f3a2",
       "version_major": 2,
       "version_minor": 0
      },
      "text/plain": [
       "0it [00:00, ?it/s]"
      ]
     },
     "metadata": {},
     "output_type": "display_data"
    },
    {
     "data": {
      "application/vnd.jupyter.widget-view+json": {
       "model_id": "984aacca617d4f1582931114d886f1de",
       "version_major": 2,
       "version_minor": 0
      },
      "text/plain": [
       "0it [00:00, ?it/s]"
      ]
     },
     "metadata": {},
     "output_type": "display_data"
    },
    {
     "name": "stdout",
     "output_type": "stream",
     "text": [
      "F1 validation: 0.5444743935309974\n"
     ]
    },
    {
     "data": {
      "application/vnd.jupyter.widget-view+json": {
       "model_id": "6b65ce7dc4fe4782a70200516d40afea",
       "version_major": 2,
       "version_minor": 0
      },
      "text/plain": [
       "0it [00:00, ?it/s]"
      ]
     },
     "metadata": {},
     "output_type": "display_data"
    },
    {
     "name": "stdout",
     "output_type": "stream",
     "text": [
      "F1 validation: 0.455045871559633\n"
     ]
    }
   ],
   "source": [
    "# Here, experiment WITHOUT data augmentation/downsampling\n",
    "\n",
    "number_of_epochs = 2\n",
    "lr = 1e-05 \n",
    "\n",
    "loaders = [training_loader, \n",
    "           augmented_training_loader_0, \n",
    "           augmented_training_loader_1, \n",
    "           augmented_training_loader_2, \n",
    "           augmented_training_loader_3]\n",
    "\n",
    "loaders_str = [\"training_loader\", \n",
    "           \"augmented_training_loader_0\",  \n",
    "           \"augmented_training_loader_1\", \n",
    "           \"augmented_training_loader_2\", \n",
    "           \"augmented_training_loader_3\"]\n",
    "\n",
    "models, f1_scoress, val_f1_scoress = [], [], []\n",
    "number_of_gradient_descent = 1600\n",
    "\n",
    "for idx, loader in enumerate(loaders):\n",
    "\n",
    "    number_of_epochs = int(number_of_gradient_descent // len(loader)) + 1\n",
    "\n",
    "    print(f\"\\n\\nStarting training with loader {loaders_str[idx]} of length {len(loader)}...\\n\")\n",
    "    model, f1_scores, val_f1_scores = train(dataset_loader=loader, number_of_epochs=number_of_epochs, lr=lr)\n",
    "    models.append(model), f1_scoress.append(f1_scores), val_f1_scoress.append(val_f1_scores)\n",
    "    "
   ]
  },
  {
   "cell_type": "markdown",
   "id": "34a059ef-3d1e-4942-af71-a380e9489d41",
   "metadata": {},
   "source": [
    "## Visualize results from different data augmentation strategies"
   ]
  },
  {
   "cell_type": "code",
   "execution_count": 77,
   "id": "938c03d5-9332-4f62-a24a-219106a40b4a",
   "metadata": {},
   "outputs": [
    {
     "data": {
      "image/png": "[encoded data removed]",
      "text/plain": [
       "<Figure size 1000x700 with 1 Axes>"
      ]
     },
     "metadata": {},
     "output_type": "display_data"
    }
   ],
   "source": [
    "loaders_labels = [\"No Data Augmentation & No down sampling\", \n",
    "           \"Full Data Augmentation & down sampling\",  \n",
    "           \"Replacement w/ synonym & down sampling\", \n",
    "           \"Random deletion & down sampling\", \n",
    "           \"Random swapping & down sampling\"]\n",
    "\n",
    "plt.figure(figsize=(10,7))\n",
    "plt.title(\"Evolution of the F1 score for PCL labels\", fontweight=\"bold\", fontsize=15)\n",
    "\n",
    "for idx, f1_scores in enumerate(val_f1_scoress):\n",
    "    \n",
    "    plt.plot(np.arange(0, number_of_gradient_descent+1, int(number_of_gradient_descent/(len(f1_scores)-1))), f1_scores, label=loaders_labels[idx], linewidth=2.7)\n",
    "    plt.legend()\n",
    "    \n",
    "plt.xlabel(\"Update\", fontsize=14, fontweight=\"bold\")\n",
    "plt.ylabel(\"F1 Score\", fontsize=14, fontweight=\"bold\")\n",
    "\n",
    "plt.grid(True)\n",
    "plt.show()"
   ]
  },
  {
   "cell_type": "markdown",
   "id": "dadbccf9-9557-4a59-abf2-4236c645364e",
   "metadata": {},
   "source": [
    "# Output predictions function"
   ]
  },
  {
   "cell_type": "code",
   "execution_count": null,
   "id": "e5c98baa-e3df-45c1-b8d7-0ce12cb69322",
   "metadata": {},
   "outputs": [],
   "source": [
    "def labels2file(preds, outf_path):\n",
    "    with open(outf_path,'w') as outf:\n",
    "        for pred in preds:\n",
    "            outf.write(','.join([str(int(pred))])+'\\n')\n",
    "            \n",
    "def valid_output(model, validation_loader, prediction = False):\n",
    "    model.eval()\n",
    "    f1_scores = []\n",
    "    n_correct = 0; n_wrong = 0; total = 0; tr_loss=0; nb_tr_steps=0; nb_tr_examples=0\n",
    "\n",
    "    if prediction:\n",
    "\n",
    "        preds = []\n",
    "\n",
    "        with torch.no_grad():\n",
    "            for _, data in tqdm(enumerate(validation_loader, 0)):\n",
    "                ids = data['ids'].to(DEVICE, dtype = torch.long)\n",
    "                mask = data['mask'].to(DEVICE, dtype = torch.long)\n",
    "                token_type_ids = data['token_type_ids'].to(DEVICE, dtype=torch.long)\n",
    "                outputs = model(ids, mask, token_type_ids).squeeze()\n",
    "                \n",
    "                \n",
    "                big_idx = torch.round(outputs.data, decimals=0)\n",
    "\n",
    "                preds.extend(list(big_idx))\n",
    "            \n",
    "        return preds\n",
    "\n",
    "    else:\n",
    "    \n",
    "        preds, targs = [], []\n",
    "\n",
    "        \n",
    "        with torch.no_grad():\n",
    "            for _, data in tqdm(enumerate(validation_loader, 0)):\n",
    "                ids = data['ids'].to(DEVICE, dtype = torch.long)\n",
    "                mask = data['mask'].to(DEVICE, dtype = torch.long)\n",
    "                token_type_ids = data['token_type_ids'].to(DEVICE, dtype=torch.long)\n",
    "                targets = data['targets'].to(DEVICE, dtype = torch.long)\n",
    "                outputs = model(ids, mask, token_type_ids).squeeze()                \n",
    "                \n",
    "                targets = targets.float()\n",
    "                loss_fn = torch.nn.BCELoss()\n",
    "                loss = loss_fn(outputs, targets)\n",
    "                \n",
    "                tr_loss += loss.item()\n",
    "                big_idx = torch.round(outputs.data, decimals=0)            \n",
    "                n_correct += calculate_accuracy(big_idx, targets)\n",
    "                \n",
    "                preds.extend(list(big_idx))\n",
    "                targs.extend(list(targets))\n",
    "                            \n",
    "                nb_tr_steps += 1\n",
    "                nb_tr_examples+=targets.size(0)\n",
    "                \n",
    "                if _%5000==0:\n",
    "                    loss_step = tr_loss/nb_tr_steps\n",
    "                    \n",
    "                    accu_step = (n_correct*100)/nb_tr_examples    \n",
    "                \n",
    "        f1_scores.append(calculate_f1_score(np.array(torch.Tensor(preds).cpu()), np.array(torch.Tensor(targs).cpu())))\n",
    "                \n",
    "        epoch_loss = tr_loss/nb_tr_steps\n",
    "        epoch_accu = (n_correct*100)/nb_tr_examples\n",
    "        \n",
    "        return epoch_accu, f1_scores[-1]"
   ]
  },
  {
   "cell_type": "markdown",
   "id": "a69d1a6f-a748-4c0b-9b77-bdc36fbcd875",
   "metadata": {},
   "source": [
    "# Final training"
   ]
  },
  {
   "cell_type": "code",
   "execution_count": 88,
   "id": "b256c6db-eb62-41c0-965a-e5e408317974",
   "metadata": {},
   "outputs": [
    {
     "name": "stderr",
     "output_type": "stream",
     "text": [
      "Some weights of the model checkpoint at roberta-base were not used when initializing RobertaModel: ['lm_head.bias', 'lm_head.layer_norm.weight', 'lm_head.dense.weight', 'lm_head.layer_norm.bias', 'lm_head.dense.bias', 'lm_head.decoder.weight']\n",
      "- This IS expected if you are initializing RobertaModel from the checkpoint of a model trained on another task or with another architecture (e.g. initializing a BertForSequenceClassification model from a BertForPreTraining model).\n",
      "- This IS NOT expected if you are initializing RobertaModel from the checkpoint of a model that you expect to be exactly identical (initializing a BertForSequenceClassification model from a BertForSequenceClassification model).\n"
     ]
    },
    {
     "data": {
      "application/vnd.jupyter.widget-view+json": {
       "model_id": "e7fbc85708fd4e80b01ed9a8aa7508e7",
       "version_major": 2,
       "version_minor": 0
      },
      "text/plain": [
       "0it [00:00, ?it/s]"
      ]
     },
     "metadata": {},
     "output_type": "display_data"
    },
    {
     "data": {
      "application/vnd.jupyter.widget-view+json": {
       "model_id": "ca874700f38b47e38c2e2d57e897d54a",
       "version_major": 2,
       "version_minor": 0
      },
      "text/plain": [
       "0it [00:00, ?it/s]"
      ]
     },
     "metadata": {},
     "output_type": "display_data"
    },
    {
     "name": "stdout",
     "output_type": "stream",
     "text": [
      "F1 validation: 0.16035145524437122\n"
     ]
    },
    {
     "data": {
      "application/vnd.jupyter.widget-view+json": {
       "model_id": "df63e5363ecd4c4bb115915f0ab40966",
       "version_major": 2,
       "version_minor": 0
      },
      "text/plain": [
       "0it [00:00, ?it/s]"
      ]
     },
     "metadata": {},
     "output_type": "display_data"
    },
    {
     "name": "stdout",
     "output_type": "stream",
     "text": [
      "F1 validation: 0.41509433962264153\n"
     ]
    },
    {
     "data": {
      "application/vnd.jupyter.widget-view+json": {
       "model_id": "ccf7d834755f4a878ddcf9fa866e23e1",
       "version_major": 2,
       "version_minor": 0
      },
      "text/plain": [
       "0it [00:00, ?it/s]"
      ]
     },
     "metadata": {},
     "output_type": "display_data"
    },
    {
     "name": "stdout",
     "output_type": "stream",
     "text": [
      "F1 validation: 0.555256064690027\n"
     ]
    },
    {
     "data": {
      "application/vnd.jupyter.widget-view+json": {
       "model_id": "00526b8dca7f4c7f8d08ce799ec9e5ad",
       "version_major": 2,
       "version_minor": 0
      },
      "text/plain": [
       "0it [00:00, ?it/s]"
      ]
     },
     "metadata": {},
     "output_type": "display_data"
    },
    {
     "data": {
      "application/vnd.jupyter.widget-view+json": {
       "model_id": "8909e3957cda4ea2b6f860a69f85519d",
       "version_major": 2,
       "version_minor": 0
      },
      "text/plain": [
       "0it [00:00, ?it/s]"
      ]
     },
     "metadata": {},
     "output_type": "display_data"
    },
    {
     "name": "stdout",
     "output_type": "stream",
     "text": [
      "F1 validation: 0.5552699228791773\n"
     ]
    },
    {
     "data": {
      "application/vnd.jupyter.widget-view+json": {
       "model_id": "fbec00ee89664b7ab7f237332349e073",
       "version_major": 2,
       "version_minor": 0
      },
      "text/plain": [
       "0it [00:00, ?it/s]"
      ]
     },
     "metadata": {},
     "output_type": "display_data"
    },
    {
     "name": "stdout",
     "output_type": "stream",
     "text": [
      "F1 validation: 0.5555555555555556\n"
     ]
    },
    {
     "data": {
      "application/vnd.jupyter.widget-view+json": {
       "model_id": "e30ed8113d7741d8a55c2acdd58b49e9",
       "version_major": 2,
       "version_minor": 0
      },
      "text/plain": [
       "0it [00:00, ?it/s]"
      ]
     },
     "metadata": {},
     "output_type": "display_data"
    },
    {
     "name": "stdout",
     "output_type": "stream",
     "text": [
      "F1 validation: 0.5169712793733682\n"
     ]
    },
    {
     "data": {
      "application/vnd.jupyter.widget-view+json": {
       "model_id": "f1bb696c5e084247af0c0370d12394a9",
       "version_major": 2,
       "version_minor": 0
      },
      "text/plain": [
       "0it [00:00, ?it/s]"
      ]
     },
     "metadata": {},
     "output_type": "display_data"
    },
    {
     "data": {
      "application/vnd.jupyter.widget-view+json": {
       "model_id": "509141ed3d594e968b5834eb6ca6637a",
       "version_major": 2,
       "version_minor": 0
      },
      "text/plain": [
       "0it [00:00, ?it/s]"
      ]
     },
     "metadata": {},
     "output_type": "display_data"
    },
    {
     "name": "stdout",
     "output_type": "stream",
     "text": [
      "F1 validation: 0.5853658536585367\n"
     ]
    },
    {
     "data": {
      "application/vnd.jupyter.widget-view+json": {
       "model_id": "e71d77e821bb4c2fae6bbc5f32cdaa92",
       "version_major": 2,
       "version_minor": 0
      },
      "text/plain": [
       "0it [00:00, ?it/s]"
      ]
     },
     "metadata": {},
     "output_type": "display_data"
    },
    {
     "name": "stdout",
     "output_type": "stream",
     "text": [
      "F1 validation: 0.5737265415549598\n"
     ]
    },
    {
     "data": {
      "application/vnd.jupyter.widget-view+json": {
       "model_id": "1256025aaebe459d8351852974309549",
       "version_major": 2,
       "version_minor": 0
      },
      "text/plain": [
       "0it [00:00, ?it/s]"
      ]
     },
     "metadata": {},
     "output_type": "display_data"
    },
    {
     "name": "stdout",
     "output_type": "stream",
     "text": [
      "F1 validation: 0.517094017094017\n"
     ]
    }
   ],
   "source": [
    "#### INPUT BEST PARAMETERS\n",
    "\n",
    "import gc\n",
    "gc.collect()\n",
    "torch.cuda.empty_cache()\n",
    "\n",
    "loader = augmented_training_loader_1\n",
    "lr = 1e-05\n",
    "number_of_gradient_descent = 1200\n",
    "number_of_epochs = int(number_of_gradient_descent // len(loader)) + 1\n",
    "\n",
    "best_model, _, _ = train(dataset_loader=loader, number_of_epochs=number_of_epochs, lr=lr)"
   ]
  },
  {
   "cell_type": "markdown",
   "id": "73c57bfd-4744-4fd5-a8cd-8f2fa8fd8831",
   "metadata": {},
   "source": [
    "## Compute predictions for the test set"
   ]
  },
  {
   "cell_type": "code",
   "execution_count": 89,
   "id": "500e2ad6-0f7b-47d1-9154-6583f636f2cd",
   "metadata": {},
   "outputs": [
    {
     "data": {
      "application/vnd.jupyter.widget-view+json": {
       "model_id": "d80c4eef724c40ac9dbbf304658f9a72",
       "version_major": 2,
       "version_minor": 0
      },
      "text/plain": [
       "0it [00:00, ?it/s]"
      ]
     },
     "metadata": {},
     "output_type": "display_data"
    }
   ],
   "source": [
    "dev_pred = valid_output(best_model, testing_loader, prediction = True)\n",
    "output_path = \"dev.txt\"\n",
    "labels2file(dev_pred, output_path)"
   ]
  },
  {
   "cell_type": "markdown",
   "id": "395a2779-c72a-49bc-8965-98cb4a6e6dfb",
   "metadata": {},
   "source": [
    "## Compute predictions for real test set"
   ]
  },
  {
   "cell_type": "code",
   "execution_count": 90,
   "id": "31b5d972-f002-4b9a-ab3e-33ffc6dc21ce",
   "metadata": {},
   "outputs": [
    {
     "data": {
      "application/vnd.jupyter.widget-view+json": {
       "model_id": "b3410d84729a46bfa9d6f2dbb87999e4",
       "version_major": 2,
       "version_minor": 0
      },
      "text/plain": [
       "0it [00:00, ?it/s]"
      ]
     },
     "metadata": {},
     "output_type": "display_data"
    }
   ],
   "source": [
    "test_pred = valid_output(best_model, real_testing_loader, prediction = True)\n",
    "output_path = \"test.txt\"\n",
    "labels2file(test_pred, output_path)"
   ]
  },
  {
   "cell_type": "code",
   "execution_count": null,
   "id": "dc1b4183-fe32-46fc-b061-60c3bca25c74",
   "metadata": {},
   "outputs": [],
   "source": []
  }
 ],
 "metadata": {
  "kernelspec": {
   "display_name": "Python 3 (ipykernel)",
   "language": "python",
   "name": "python3"
  },
  "language_info": {
   "codemirror_mode": {
    "name": "ipython",
    "version": 3
   },
   "file_extension": ".py",
   "mimetype": "text/x-python",
   "name": "python",
   "nbconvert_exporter": "python",
   "pygments_lexer": "ipython3",
   "version": "3.9.16"
  }
 },
 "nbformat": 4,
 "nbformat_minor": 5
}
